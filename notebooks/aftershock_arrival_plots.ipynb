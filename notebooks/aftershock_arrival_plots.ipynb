{
 "metadata": {
  "name": "aftershock_arrival_plots"
 },
 "nbformat": 3,
 "nbformat_minor": 0,
 "worksheets": [
  {
   "cells": [
    {
     "cell_type": "markdown",
     "metadata": {},
     "source": [
      "# Plotting Aftershock Arrival Times"
     ]
    },
    {
     "cell_type": "markdown",
     "metadata": {},
     "source": [
      "## Goal: Identify Functions to Fit for MDA Model\n",
      "\n",
      "### Method:\n",
      "\n",
      "+ Bin quakes by magnitude (arbitrary bin sizes for now)\n",
      "\n",
      "+ Plot timedeltas for the aftershocks of each quake (arbitrarily define aftershocks as the next 5 quakes, for now)\n",
      "\n",
      "+ Improve and smooth the plot to identify functions that might fit better than $$ \\tau u^M $$"
     ]
    },
    {
     "cell_type": "code",
     "collapsed": false,
     "input": [
      "from ggplot import *\n",
      "import datetime\n",
      "import time\n",
      "import urllib\n",
      "import numpy\n",
      "import pandas as pd\n",
      "from pandas import read_csv\n",
      "from dateutil import parser\n",
      "from pprint import pprint\n",
      "from datetime import timedelta"
     ],
     "language": "python",
     "metadata": {},
     "outputs": [],
     "prompt_number": 116
    },
    {
     "cell_type": "markdown",
     "metadata": {},
     "source": [
      "## Curation\n",
      "\n",
      "Fetch 2012 Earthquake Catalog from curators"
     ]
    },
    {
     "cell_type": "code",
     "collapsed": false,
     "input": [
      "catalog = read_csv(\"https://stat157.github.io/analyzers/data_from_curators/2012.catalog.csv\")\n",
      "clean_catalog = catalog.dropna(axis=0, how='any')"
     ],
     "language": "python",
     "metadata": {},
     "outputs": [],
     "prompt_number": 118
    },
    {
     "cell_type": "markdown",
     "metadata": {},
     "source": [
      "Use a small subset of data for prototyping the process"
     ]
    },
    {
     "cell_type": "code",
     "collapsed": false,
     "input": [
      "test_catalog = clean_catalog[0:20]"
     ],
     "language": "python",
     "metadata": {},
     "outputs": [],
     "prompt_number": 119
    },
    {
     "cell_type": "markdown",
     "metadata": {},
     "source": [
      "Extract date and time, and combine them into python.datetime format"
     ]
    },
    {
     "cell_type": "code",
     "collapsed": false,
     "input": [
      "test_date = test_catalog['YYYY/MM/DD']\n",
      "test_time = test_catalog['HH:mm:SS.ss']"
     ],
     "language": "python",
     "metadata": {},
     "outputs": [],
     "prompt_number": 120
    },
    {
     "cell_type": "code",
     "collapsed": false,
     "input": [
      "test_dt = [parser.parse(date + \" \" + time) for date, time in zip(test_date, test_time)]"
     ],
     "language": "python",
     "metadata": {},
     "outputs": [],
     "prompt_number": 121
    },
    {
     "cell_type": "markdown",
     "metadata": {},
     "source": [
      "Add the reformatted datetimes as a column in the existing DataFrame"
     ]
    },
    {
     "cell_type": "code",
     "collapsed": false,
     "input": [
      "test_catalog['DATETIME'] = test_dt\n",
      "test_catalog[0:20]"
     ],
     "language": "python",
     "metadata": {},
     "outputs": [
      {
       "html": [
        "<div style=\"max-height:1000px;max-width:1500px;overflow:auto;\">\n",
        "<table border=\"1\" class=\"dataframe\">\n",
        "  <thead>\n",
        "    <tr style=\"text-align: right;\">\n",
        "      <th></th>\n",
        "      <th>YYYY/MM/DD</th>\n",
        "      <th>HH:mm:SS.ss</th>\n",
        "      <th>ET</th>\n",
        "      <th>MAG</th>\n",
        "      <th>M</th>\n",
        "      <th>LAT</th>\n",
        "      <th>LON</th>\n",
        "      <th>DEPTH</th>\n",
        "      <th>Q</th>\n",
        "      <th>EVID</th>\n",
        "      <th>NPH</th>\n",
        "      <th>NGRM</th>\n",
        "      <th>DATETIME</th>\n",
        "    </tr>\n",
        "  </thead>\n",
        "  <tbody>\n",
        "    <tr>\n",
        "      <th>0 </th>\n",
        "      <td> 2012/01/01</td>\n",
        "      <td> 00:56:43.83</td>\n",
        "      <td> le</td>\n",
        "      <td> 0.69</td>\n",
        "      <td> l</td>\n",
        "      <td> 36.004</td>\n",
        "      <td>-117.797</td>\n",
        "      <td>  3.0</td>\n",
        "      <td> A</td>\n",
        "      <td> 11048253</td>\n",
        "      <td>  12</td>\n",
        "      <td> 0</td>\n",
        "      <td>2012-01-01 00:56:43.830000</td>\n",
        "    </tr>\n",
        "    <tr>\n",
        "      <th>1 </th>\n",
        "      <td> 2012/01/01</td>\n",
        "      <td> 02:24:40.05</td>\n",
        "      <td> le</td>\n",
        "      <td> 0.37</td>\n",
        "      <td> l</td>\n",
        "      <td> 33.451</td>\n",
        "      <td>-116.625</td>\n",
        "      <td>  7.4</td>\n",
        "      <td> A</td>\n",
        "      <td> 11048261</td>\n",
        "      <td>  27</td>\n",
        "      <td> 0</td>\n",
        "      <td>2012-01-01 02:24:40.050000</td>\n",
        "    </tr>\n",
        "    <tr>\n",
        "      <th>2 </th>\n",
        "      <td> 2012/01/01</td>\n",
        "      <td> 03:21:20.29</td>\n",
        "      <td> le</td>\n",
        "      <td> 1.58</td>\n",
        "      <td> l</td>\n",
        "      <td> 32.827</td>\n",
        "      <td>-115.598</td>\n",
        "      <td>  2.8</td>\n",
        "      <td> A</td>\n",
        "      <td> 11048269</td>\n",
        "      <td>  23</td>\n",
        "      <td> 0</td>\n",
        "      <td>2012-01-01 03:21:20.290000</td>\n",
        "    </tr>\n",
        "    <tr>\n",
        "      <th>3 </th>\n",
        "      <td> 2012/01/01</td>\n",
        "      <td> 03:37:53.53</td>\n",
        "      <td> le</td>\n",
        "      <td> 1.74</td>\n",
        "      <td> l</td>\n",
        "      <td> 32.839</td>\n",
        "      <td>-115.600</td>\n",
        "      <td>  3.3</td>\n",
        "      <td> A</td>\n",
        "      <td> 11048277</td>\n",
        "      <td>  20</td>\n",
        "      <td> 0</td>\n",
        "      <td>2012-01-01 03:37:53.530000</td>\n",
        "    </tr>\n",
        "    <tr>\n",
        "      <th>4 </th>\n",
        "      <td> 2012/01/01</td>\n",
        "      <td> 05:02:00.24</td>\n",
        "      <td> le</td>\n",
        "      <td> 1.66</td>\n",
        "      <td> l</td>\n",
        "      <td> 33.840</td>\n",
        "      <td>-117.761</td>\n",
        "      <td>  6.2</td>\n",
        "      <td> A</td>\n",
        "      <td> 11048285</td>\n",
        "      <td>  51</td>\n",
        "      <td> 0</td>\n",
        "      <td>2012-01-01 05:02:00.240000</td>\n",
        "    </tr>\n",
        "    <tr>\n",
        "      <th>5 </th>\n",
        "      <td> 2012/01/01</td>\n",
        "      <td> 05:06:41.37</td>\n",
        "      <td> le</td>\n",
        "      <td> 1.13</td>\n",
        "      <td> l</td>\n",
        "      <td> 34.113</td>\n",
        "      <td>-117.001</td>\n",
        "      <td>  6.2</td>\n",
        "      <td> A</td>\n",
        "      <td> 11048293</td>\n",
        "      <td>  42</td>\n",
        "      <td> 0</td>\n",
        "      <td>2012-01-01 05:06:41.370000</td>\n",
        "    </tr>\n",
        "    <tr>\n",
        "      <th>6 </th>\n",
        "      <td> 2012/01/01</td>\n",
        "      <td> 05:54:52.49</td>\n",
        "      <td> le</td>\n",
        "      <td> 1.08</td>\n",
        "      <td> l</td>\n",
        "      <td> 33.965</td>\n",
        "      <td>-116.376</td>\n",
        "      <td>  9.5</td>\n",
        "      <td> A</td>\n",
        "      <td> 11048309</td>\n",
        "      <td>  29</td>\n",
        "      <td> 0</td>\n",
        "      <td>2012-01-01 05:54:52.490000</td>\n",
        "    </tr>\n",
        "    <tr>\n",
        "      <th>7 </th>\n",
        "      <td> 2012/01/01</td>\n",
        "      <td> 07:21:48.14</td>\n",
        "      <td> le</td>\n",
        "      <td> 1.45</td>\n",
        "      <td> l</td>\n",
        "      <td> 34.108</td>\n",
        "      <td>-116.996</td>\n",
        "      <td>  4.7</td>\n",
        "      <td> A</td>\n",
        "      <td> 11048317</td>\n",
        "      <td>  71</td>\n",
        "      <td> 0</td>\n",
        "      <td>2012-01-01 07:21:48.140000</td>\n",
        "    </tr>\n",
        "    <tr>\n",
        "      <th>8 </th>\n",
        "      <td> 2012/01/01</td>\n",
        "      <td> 07:59:11.47</td>\n",
        "      <td> le</td>\n",
        "      <td> 0.04</td>\n",
        "      <td> l</td>\n",
        "      <td> 33.676</td>\n",
        "      <td>-116.719</td>\n",
        "      <td> 15.1</td>\n",
        "      <td> A</td>\n",
        "      <td> 11048325</td>\n",
        "      <td>  24</td>\n",
        "      <td> 0</td>\n",
        "      <td>2012-01-01 07:59:11.470000</td>\n",
        "    </tr>\n",
        "    <tr>\n",
        "      <th>9 </th>\n",
        "      <td> 2012/01/01</td>\n",
        "      <td> 08:01:40.50</td>\n",
        "      <td> le</td>\n",
        "      <td> 1.20</td>\n",
        "      <td> l</td>\n",
        "      <td> 33.142</td>\n",
        "      <td>-115.635</td>\n",
        "      <td>  5.1</td>\n",
        "      <td> A</td>\n",
        "      <td> 11048333</td>\n",
        "      <td>  19</td>\n",
        "      <td> 0</td>\n",
        "      <td>2012-01-01 08:01:40.500000</td>\n",
        "    </tr>\n",
        "    <tr>\n",
        "      <th>10</th>\n",
        "      <td> 2012/01/01</td>\n",
        "      <td> 08:35:47.55</td>\n",
        "      <td> le</td>\n",
        "      <td> 0.60</td>\n",
        "      <td> l</td>\n",
        "      <td> 33.676</td>\n",
        "      <td>-116.724</td>\n",
        "      <td> 15.8</td>\n",
        "      <td> A</td>\n",
        "      <td> 11048365</td>\n",
        "      <td>  18</td>\n",
        "      <td> 0</td>\n",
        "      <td>2012-01-01 08:35:47.550000</td>\n",
        "    </tr>\n",
        "    <tr>\n",
        "      <th>11</th>\n",
        "      <td> 2012/01/01</td>\n",
        "      <td> 08:35:47.83</td>\n",
        "      <td> le</td>\n",
        "      <td> 0.58</td>\n",
        "      <td> l</td>\n",
        "      <td> 33.674</td>\n",
        "      <td>-116.713</td>\n",
        "      <td> 14.5</td>\n",
        "      <td> A</td>\n",
        "      <td> 11048357</td>\n",
        "      <td>  32</td>\n",
        "      <td> 0</td>\n",
        "      <td>2012-01-01 08:35:47.830000</td>\n",
        "    </tr>\n",
        "    <tr>\n",
        "      <th>12</th>\n",
        "      <td> 2012/01/01</td>\n",
        "      <td> 08:44:27.57</td>\n",
        "      <td> le</td>\n",
        "      <td> 0.89</td>\n",
        "      <td> l</td>\n",
        "      <td> 35.992</td>\n",
        "      <td>-117.328</td>\n",
        "      <td>  6.5</td>\n",
        "      <td> C</td>\n",
        "      <td> 11048373</td>\n",
        "      <td>  21</td>\n",
        "      <td> 0</td>\n",
        "      <td>2012-01-01 08:44:27.570000</td>\n",
        "    </tr>\n",
        "    <tr>\n",
        "      <th>13</th>\n",
        "      <td> 2012/01/01</td>\n",
        "      <td> 08:53:49.43</td>\n",
        "      <td> le</td>\n",
        "      <td> 2.15</td>\n",
        "      <td> l</td>\n",
        "      <td> 33.997</td>\n",
        "      <td>-116.900</td>\n",
        "      <td>  7.4</td>\n",
        "      <td> A</td>\n",
        "      <td> 11048381</td>\n",
        "      <td> 162</td>\n",
        "      <td> 0</td>\n",
        "      <td>2012-01-01 08:53:49.430000</td>\n",
        "    </tr>\n",
        "    <tr>\n",
        "      <th>14</th>\n",
        "      <td> 2012/01/01</td>\n",
        "      <td> 09:11:30.09</td>\n",
        "      <td> le</td>\n",
        "      <td> 0.66</td>\n",
        "      <td> l</td>\n",
        "      <td> 35.645</td>\n",
        "      <td>-117.659</td>\n",
        "      <td>  4.1</td>\n",
        "      <td> A</td>\n",
        "      <td> 11048389</td>\n",
        "      <td>  18</td>\n",
        "      <td> 0</td>\n",
        "      <td>2012-01-01 09:11:30.090000</td>\n",
        "    </tr>\n",
        "    <tr>\n",
        "      <th>15</th>\n",
        "      <td> 2012/01/01</td>\n",
        "      <td> 09:22:01.03</td>\n",
        "      <td> le</td>\n",
        "      <td> 1.52</td>\n",
        "      <td> l</td>\n",
        "      <td> 36.004</td>\n",
        "      <td>-117.905</td>\n",
        "      <td>  7.5</td>\n",
        "      <td> A</td>\n",
        "      <td> 11048397</td>\n",
        "      <td>  29</td>\n",
        "      <td> 0</td>\n",
        "      <td>2012-01-01 09:22:01.030000</td>\n",
        "    </tr>\n",
        "    <tr>\n",
        "      <th>16</th>\n",
        "      <td> 2012/01/01</td>\n",
        "      <td> 09:26:07.42</td>\n",
        "      <td> le</td>\n",
        "      <td> 0.98</td>\n",
        "      <td> l</td>\n",
        "      <td> 33.692</td>\n",
        "      <td>-116.737</td>\n",
        "      <td> 17.6</td>\n",
        "      <td> A</td>\n",
        "      <td> 11048405</td>\n",
        "      <td>  29</td>\n",
        "      <td> 0</td>\n",
        "      <td>2012-01-01 09:26:07.420000</td>\n",
        "    </tr>\n",
        "    <tr>\n",
        "      <th>17</th>\n",
        "      <td> 2012/01/01</td>\n",
        "      <td> 09:29:48.00</td>\n",
        "      <td> le</td>\n",
        "      <td> 1.02</td>\n",
        "      <td> l</td>\n",
        "      <td> 35.643</td>\n",
        "      <td>-117.643</td>\n",
        "      <td> 12.7</td>\n",
        "      <td> A</td>\n",
        "      <td> 11048413</td>\n",
        "      <td>  15</td>\n",
        "      <td> 0</td>\n",
        "      <td>       2012-01-01 09:29:48</td>\n",
        "    </tr>\n",
        "    <tr>\n",
        "      <th>18</th>\n",
        "      <td> 2012/01/01</td>\n",
        "      <td> 09:43:58.22</td>\n",
        "      <td> le</td>\n",
        "      <td> 1.10</td>\n",
        "      <td> l</td>\n",
        "      <td> 32.793</td>\n",
        "      <td>-116.142</td>\n",
        "      <td>  5.8</td>\n",
        "      <td> C</td>\n",
        "      <td> 11048421</td>\n",
        "      <td>  23</td>\n",
        "      <td> 0</td>\n",
        "      <td>2012-01-01 09:43:58.220000</td>\n",
        "    </tr>\n",
        "    <tr>\n",
        "      <th>19</th>\n",
        "      <td> 2012/01/01</td>\n",
        "      <td> 11:02:58.94</td>\n",
        "      <td> le</td>\n",
        "      <td> 0.37</td>\n",
        "      <td> l</td>\n",
        "      <td> 33.655</td>\n",
        "      <td>-116.704</td>\n",
        "      <td> 15.0</td>\n",
        "      <td> C</td>\n",
        "      <td> 11048429</td>\n",
        "      <td>  25</td>\n",
        "      <td> 0</td>\n",
        "      <td>2012-01-01 11:02:58.940000</td>\n",
        "    </tr>\n",
        "  </tbody>\n",
        "</table>\n",
        "</div>"
       ],
       "output_type": "pyout",
       "prompt_number": 122,
       "text": [
        "    YYYY/MM/DD  HH:mm:SS.ss  ET   MAG  M     LAT      LON  DEPTH  Q      EVID  NPH  NGRM  \\\n",
        "0   2012/01/01  00:56:43.83  le  0.69  l  36.004 -117.797    3.0  A  11048253   12     0   \n",
        "1   2012/01/01  02:24:40.05  le  0.37  l  33.451 -116.625    7.4  A  11048261   27     0   \n",
        "2   2012/01/01  03:21:20.29  le  1.58  l  32.827 -115.598    2.8  A  11048269   23     0   \n",
        "3   2012/01/01  03:37:53.53  le  1.74  l  32.839 -115.600    3.3  A  11048277   20     0   \n",
        "4   2012/01/01  05:02:00.24  le  1.66  l  33.840 -117.761    6.2  A  11048285   51     0   \n",
        "5   2012/01/01  05:06:41.37  le  1.13  l  34.113 -117.001    6.2  A  11048293   42     0   \n",
        "6   2012/01/01  05:54:52.49  le  1.08  l  33.965 -116.376    9.5  A  11048309   29     0   \n",
        "7   2012/01/01  07:21:48.14  le  1.45  l  34.108 -116.996    4.7  A  11048317   71     0   \n",
        "8   2012/01/01  07:59:11.47  le  0.04  l  33.676 -116.719   15.1  A  11048325   24     0   \n",
        "9   2012/01/01  08:01:40.50  le  1.20  l  33.142 -115.635    5.1  A  11048333   19     0   \n",
        "10  2012/01/01  08:35:47.55  le  0.60  l  33.676 -116.724   15.8  A  11048365   18     0   \n",
        "11  2012/01/01  08:35:47.83  le  0.58  l  33.674 -116.713   14.5  A  11048357   32     0   \n",
        "12  2012/01/01  08:44:27.57  le  0.89  l  35.992 -117.328    6.5  C  11048373   21     0   \n",
        "13  2012/01/01  08:53:49.43  le  2.15  l  33.997 -116.900    7.4  A  11048381  162     0   \n",
        "14  2012/01/01  09:11:30.09  le  0.66  l  35.645 -117.659    4.1  A  11048389   18     0   \n",
        "15  2012/01/01  09:22:01.03  le  1.52  l  36.004 -117.905    7.5  A  11048397   29     0   \n",
        "16  2012/01/01  09:26:07.42  le  0.98  l  33.692 -116.737   17.6  A  11048405   29     0   \n",
        "17  2012/01/01  09:29:48.00  le  1.02  l  35.643 -117.643   12.7  A  11048413   15     0   \n",
        "18  2012/01/01  09:43:58.22  le  1.10  l  32.793 -116.142    5.8  C  11048421   23     0   \n",
        "19  2012/01/01  11:02:58.94  le  0.37  l  33.655 -116.704   15.0  C  11048429   25     0   \n",
        "\n",
        "                     DATETIME  \n",
        "0  2012-01-01 00:56:43.830000  \n",
        "1  2012-01-01 02:24:40.050000  \n",
        "2  2012-01-01 03:21:20.290000  \n",
        "3  2012-01-01 03:37:53.530000  \n",
        "4  2012-01-01 05:02:00.240000  \n",
        "5  2012-01-01 05:06:41.370000  \n",
        "6  2012-01-01 05:54:52.490000  \n",
        "7  2012-01-01 07:21:48.140000  \n",
        "8  2012-01-01 07:59:11.470000  \n",
        "9  2012-01-01 08:01:40.500000  \n",
        "10 2012-01-01 08:35:47.550000  \n",
        "11 2012-01-01 08:35:47.830000  \n",
        "12 2012-01-01 08:44:27.570000  \n",
        "13 2012-01-01 08:53:49.430000  \n",
        "14 2012-01-01 09:11:30.090000  \n",
        "15 2012-01-01 09:22:01.030000  \n",
        "16 2012-01-01 09:26:07.420000  \n",
        "17        2012-01-01 09:29:48  \n",
        "18 2012-01-01 09:43:58.220000  \n",
        "19 2012-01-01 11:02:58.940000  "
       ]
      }
     ],
     "prompt_number": 122
    },
    {
     "cell_type": "markdown",
     "metadata": {},
     "source": [
      "Prints the data types of our variables.\n",
      "\n",
      "Notice:\n",
      "\n",
      "+ the datetimes were converted by Pandas.DataFrame from python.datetime to python.timestamp format\n",
      "\n",
      "+ magnitude is stored as a float; this might make binning difficult (see [python's **round()** documentation](http://docs.python.org/2/library/functions.html#round))."
     ]
    },
    {
     "cell_type": "code",
     "collapsed": false,
     "input": [
      "print type(test_catalog['DATETIME'])\n",
      "print type(test_catalog['DATETIME'][0])\n",
      "print type(test_catalog.MAG[0])"
     ],
     "language": "python",
     "metadata": {},
     "outputs": [
      {
       "output_type": "stream",
       "stream": "stdout",
       "text": [
        "<class 'pandas.core.series.Series'>\n",
        "<class 'pandas.tslib.Timestamp'>\n",
        "<type 'numpy.float64'>\n"
       ]
      }
     ],
     "prompt_number": 123
    },
    {
     "cell_type": "markdown",
     "metadata": {},
     "source": [
      "## Analysis\n",
      "\n",
      "Create a histogram of the magnitudes from 0 to 5.5, in bin sizes 0.5"
     ]
    },
    {
     "cell_type": "code",
     "collapsed": false,
     "input": [
      "bins = numpy.arange(0, 5.5, 0.5)\n",
      "freq, bins = numpy.histogram(clean_catalog.MAG, bins)\n",
      "print freq\n",
      "print bins"
     ],
     "language": "python",
     "metadata": {},
     "outputs": [
      {
       "output_type": "stream",
       "stream": "stdout",
       "text": [
        "[2317 4941 4998 2972 1244  481  155   53   21    7]\n",
        "[ 0.   0.5  1.   1.5  2.   2.5  3.   3.5  4.   4.5  5. ]\n"
       ]
      }
     ],
     "prompt_number": 125
    },
    {
     "cell_type": "code",
     "collapsed": false,
     "input": [
      "test_mag = test_catalog.MAG\n",
      "test_dt = test_catalog.DATETIME\n",
      "test_mag"
     ],
     "language": "python",
     "metadata": {},
     "outputs": [
      {
       "output_type": "pyout",
       "prompt_number": 126,
       "text": [
        "0     0.69\n",
        "1     0.37\n",
        "2     1.58\n",
        "3     1.74\n",
        "4     1.66\n",
        "5     1.13\n",
        "6     1.08\n",
        "7     1.45\n",
        "8     0.04\n",
        "9     1.20\n",
        "10    0.60\n",
        "11    0.58\n",
        "12    0.89\n",
        "13    2.15\n",
        "14    0.66\n",
        "15    1.52\n",
        "16    0.98\n",
        "17    1.02\n",
        "18    1.10\n",
        "19    0.37\n",
        "Name: MAG"
       ]
      }
     ],
     "prompt_number": 126
    },
    {
     "cell_type": "markdown",
     "metadata": {},
     "source": [
      "#### Warning: Hacky Solutions Ahead\n",
      "\n",
      "This code is sufficient to create an initial plot and allowed us to move forward when stuck, but needs to be refactored.\n",
      "\n",
      "Idea: Create x and y columns to add to the data frame, so they can be plotted with ggplot."
     ]
    },
    {
     "cell_type": "markdown",
     "metadata": {},
     "source": [
      "Creates the x-coordinates: a list with each quake's magnitude repeated five times"
     ]
    },
    {
     "cell_type": "code",
     "collapsed": false,
     "input": [
      "mags = [mag for mag in test_mag for rep in range(5)]\n",
      "mags = mags[:-25]"
     ],
     "language": "python",
     "metadata": {},
     "outputs": [],
     "prompt_number": 127
    },
    {
     "cell_type": "markdown",
     "metadata": {},
     "source": [
      "Creates the y-coordinates: a list with the timedeltas of each quake's aftershocks (for now, the next five quakes)"
     ]
    },
    {
     "cell_type": "code",
     "collapsed": false,
     "input": [
      "points = []\n",
      "for i in range(len(test_dt) - 5):\n",
      "    current = test_dt[i]\n",
      "    for j in range(1, 6):\n",
      "        points.append(test_dt[i+j] - current)"
     ],
     "language": "python",
     "metadata": {},
     "outputs": [],
     "prompt_number": 128
    },
    {
     "cell_type": "code",
     "collapsed": false,
     "input": [
      "assert len(points) == len(mags)"
     ],
     "language": "python",
     "metadata": {},
     "outputs": [],
     "prompt_number": 129
    },
    {
     "cell_type": "markdown",
     "metadata": {},
     "source": [
      "Converts the timedeltas into seconds so they can be plotted on an absolute time scale"
     ]
    },
    {
     "cell_type": "code",
     "collapsed": false,
     "input": [
      "points_ts = [timedelta.total_seconds(point) for point in points]\n",
      "\n",
      "type(points_ts)"
     ],
     "language": "python",
     "metadata": {},
     "outputs": [
      {
       "output_type": "pyout",
       "prompt_number": 132,
       "text": [
        "list"
       ]
      }
     ],
     "prompt_number": 132
    },
    {
     "cell_type": "markdown",
     "metadata": {},
     "source": [
      "Creates a DataFrame of the x- and y-coordinates, so ggplot can plot them.\n",
      "\n",
      "TODO: Convert the existing columns in the catalog DF, instead of creating a new dataframe.\n",
      "TODO: Memory-management: only import the DF columns we want (mag, date, time)"
     ]
    },
    {
     "cell_type": "code",
     "collapsed": false,
     "input": [
      "df = pd.DataFrame({'mags': mags, 'timedeltas': points_ts})"
     ],
     "language": "python",
     "metadata": {},
     "outputs": [],
     "prompt_number": 138
    },
    {
     "cell_type": "code",
     "collapsed": false,
     "input": [
      "from ggplot import *\n",
      "\n",
      "print ggplot(df, aes('mags', 'timedeltas')) + \\\n",
      "  geom_point(colour='steelblue')"
     ],
     "language": "python",
     "metadata": {},
     "outputs": [
      {
       "output_type": "stream",
       "stream": "stdout",
       "text": [
        "<ggplot: (5403121)>\n"
       ]
      },
      {
       "output_type": "display_data",
       "png": "[encoded data removed]"
      }
     ],
     "prompt_number": 143
    },
    {
     "cell_type": "code",
     "collapsed": false,
     "input": [
      "import matplotlib.pyplot as plt\n",
      "print freq\n",
      "plt.bar([0, 0.5, 1, 1.5, 2, 2.5, 3, 3.5, 4, 4.5], freq)\n",
      "plt.show()"
     ],
     "language": "python",
     "metadata": {},
     "outputs": []
    },
    {
     "cell_type": "code",
     "collapsed": false,
     "input": [
      "# p = ggplot(aes(x='bins'), data = "
     ],
     "language": "python",
     "metadata": {},
     "outputs": []
    },
    {
     "cell_type": "code",
     "collapsed": false,
     "input": [
      "test_catalog['DATETIME'][1] - test_catalog['DATETIME'][0]"
     ],
     "language": "python",
     "metadata": {},
     "outputs": []
    },
    {
     "cell_type": "code",
     "collapsed": false,
     "input": [
      "# myplot = ggplot(aes('MAG'), data = clean_catalog)\n",
      "# myplot + geom_boxplot(aes(x=NGRM, y=MAG))"
     ],
     "language": "python",
     "metadata": {},
     "outputs": []
    }
   ],
   "metadata": {}
  }
 ]
}