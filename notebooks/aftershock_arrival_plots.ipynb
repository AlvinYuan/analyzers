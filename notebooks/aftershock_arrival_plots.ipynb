{
 "metadata": {
  "name": ""
 },
 "nbformat": 3,
 "nbformat_minor": 0,
 "worksheets": [
  {
   "cells": [
    {
     "cell_type": "code",
     "collapsed": false,
     "input": [
      "from ggplot import *\n",
      "import datetime\n",
      "import time\n",
      "import urllib\n",
      "import numpy\n",
      "import pandas as pd\n",
      "from pandas import read_csv\n",
      "from dateutil import parser\n",
      "from pprint import pprint"
     ],
     "language": "python",
     "metadata": {},
     "outputs": []
    },
    {
     "cell_type": "code",
     "collapsed": false,
     "input": [
      "catalog = read_csv(\"https://stat157.github.io/analyzers/data_from_curators/2012.catalog.csv\")\n",
      "clean_catalog = catalog.dropna(axis=0, how='any')\n",
      "MAG = clean_catalog.MAG"
     ],
     "language": "python",
     "metadata": {},
     "outputs": []
    },
    {
     "cell_type": "code",
     "collapsed": false,
     "input": [
      "test_catalog = clean_catalog"
     ],
     "language": "python",
     "metadata": {},
     "outputs": []
    },
    {
     "cell_type": "code",
     "collapsed": false,
     "input": [
      "test_date = test_catalog['YYYY/MM/DD']\n",
      "test_time = test_catalog['HH:mm:SS.ss']"
     ],
     "language": "python",
     "metadata": {},
     "outputs": []
    },
    {
     "cell_type": "code",
     "collapsed": false,
     "input": [
      "test_dt = [parser.parse(date + \" \" + time) for date, time in zip(test_date, test_time)]"
     ],
     "language": "python",
     "metadata": {},
     "outputs": []
    },
    {
     "cell_type": "code",
     "collapsed": false,
     "input": [
      "test_catalog['DATETIME'] = test_dt\n",
      "test_catalog[0:20]"
     ],
     "language": "python",
     "metadata": {},
     "outputs": []
    },
    {
     "cell_type": "code",
     "collapsed": false,
     "input": [
      "type(test_catalog['DATETIME'])\n",
      "type(test_catalog['DATETIME'][0])\n",
      "type(test_catalog.MAG[0])"
     ],
     "language": "python",
     "metadata": {},
     "outputs": []
    },
    {
     "cell_type": "code",
     "collapsed": false,
     "input": [
      "bins = numpy.arange(0, 5.5, 0.5)\n",
      "freq, bins = numpy.histogram(MAG, bins)\n",
      "print freq\n",
      "print bins"
     ],
     "language": "python",
     "metadata": {},
     "outputs": []
    },
    {
     "cell_type": "code",
     "collapsed": false,
     "input": [
      "import matplotlib.pyplot as plt\n",
      "print freq\n",
      "plt.bar([0, 0.5, 1, 1.5, 2, 2.5, 3, 3.5, 4, 4.5], freq)\n",
      "plt.show()"
     ],
     "language": "python",
     "metadata": {},
     "outputs": []
    },
    {
     "cell_type": "code",
     "collapsed": false,
     "input": [
      "p = ggplot(aes(x='bins'), data = "
     ],
     "language": "python",
     "metadata": {},
     "outputs": []
    },
    {
     "cell_type": "code",
     "collapsed": false,
     "input": [
      "test_catalog['DATETIME'][1] - test_catalog['DATETIME'][0]"
     ],
     "language": "python",
     "metadata": {},
     "outputs": []
    },
    {
     "cell_type": "code",
     "collapsed": false,
     "input": [
      "# myplot = ggplot(aes('MAG'), data = clean_catalog)\n",
      "# myplot + geom_boxplot(aes(x=NGRM, y=MAG))"
     ],
     "language": "python",
     "metadata": {},
     "outputs": []
    }
   ],
   "metadata": {}
  }
 ]
}