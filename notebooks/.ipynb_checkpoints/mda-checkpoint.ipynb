{
 "metadata": {
  "name": ""
 },
 "nbformat": 3,
 "nbformat_minor": 0,
 "worksheets": [
  {
   "cells": [
    {
     "cell_type": "code",
     "collapsed": false,
     "input": [
      "import pandas as pd\n",
      "\n",
      "def mda(mag, dt):\n",
      "    \"\"\"\n",
      "    Uses basic MDA model (tau*u^mag) to predict earthquakes.\n",
      "    Returns pandas daterange when alarm should be on.\n",
      "    MAG: list of earthquake magnitudes\n",
      "    DT: list of earthquake datetimes in pandas.datetime format\n",
      "    (MAG and DT have the same length and come from earthquakes data frame)\n",
      "    \"\"\"\n",
      "    \n",
      "    tau = 0.3 # we will figure out what tau is later\n",
      "    u=1 # we will add fancy tuning functionality later\n",
      "    for i in range(0, len(mag)):\n",
      "        alarm_length = tau * (u ** mag[i])\n",
      "        "
     ],
     "language": "python",
     "metadata": {},
     "outputs": []
    }
   ],
   "metadata": {}
  }
 ]
}