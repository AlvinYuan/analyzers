{
 "metadata": {
  "name": ""
 },
 "nbformat": 3,
 "nbformat_minor": 0,
 "worksheets": [
  {
   "cells": [
    {
     "cell_type": "markdown",
     "metadata": {},
     "source": [
      "**Imports the necessary packages**"
     ]
    },
    {
     "cell_type": "code",
     "collapsed": false,
     "input": [
      "import pandas as pd"
     ],
     "language": "python",
     "metadata": {},
     "outputs": [],
     "prompt_number": 1
    },
    {
     "cell_type": "markdown",
     "metadata": {},
     "source": [
      "**Gets some sample or fake data, perhaps from hw2's Alaska?**"
     ]
    },
    {
     "cell_type": "code",
     "collapsed": false,
     "input": [],
     "language": "python",
     "metadata": {},
     "outputs": []
    },
    {
     "cell_type": "markdown",
     "metadata": {},
     "source": [
      "**Extracts the alarm length for each possible quake**"
     ]
    },
    {
     "cell_type": "code",
     "collapsed": false,
     "input": [
      "def mda(mag, dt):\n",
      "    \"\"\"\n",
      "    Uses basic MDA model (tau*u^mag) to predict earthquakes.\n",
      "    Returns pandas daterange when alarm should be on.\n",
      "    MAG: list of earthquake magnitudes\n",
      "    DT: list of earthquake datetimes in pandas.datetime format\n",
      "    (MAG and DT have the same length and come from earthquakes data frame)\n",
      "    \"\"\"\n",
      "    assert len(mag) == len(dt)\n",
      "    \n",
      "    tau = 0.3 # we will figure out what tau is later\n",
      "    u = 1 # we will add fancy tuning functionality later\n",
      "    \n",
      "    alarms = []\n",
      "    for i in range(0, len(mag)):\n",
      "        alarm_length = tau * (u ** mag[i])\n",
      "        val = pd.date_range(start=dt[i], end=dt[i]+alarm_length)\n",
      "        # ^^^ the above won't work; adding a float to datetime undefined\n",
      "        alarms.append(val) # date_range specifying when alarm is on\n",
      "        "
     ],
     "language": "python",
     "metadata": {},
     "outputs": [],
     "prompt_number": 1
    }
   ],
   "metadata": {}
  }
 ]
}