{
 "metadata": {
  "name": ""
 },
 "nbformat": 3,
 "nbformat_minor": 0,
 "worksheets": [
  {
   "cells": [
    {
     "cell_type": "markdown",
     "metadata": {},
     "source": [
      "**Imports the necessary packages**"
     ]
    },
    {
     "cell_type": "code",
     "collapsed": false,
     "input": [
      "import datetime\n",
      "import time\n",
      "import urllib\n",
      "import numpy as np\n",
      "import pandas as pd\n",
      "from pandas import read_csv\n",
      "from dateutil import parser\n",
      "from pprint import pprint"
     ],
     "language": "python",
     "metadata": {},
     "outputs": [],
     "prompt_number": 2
    },
    {
     "cell_type": "markdown",
     "metadata": {},
     "source": [
      "**Use the data from the curators, populate a Pandas dataframe**"
     ]
    },
    {
     "cell_type": "code",
     "collapsed": false,
     "input": [
      "# This is the 2013 data from the curators\n",
      "# Thanks Piazza for the free hosting :p\n",
      "\n",
      "# We'll probably have to setup a github page for this project, or find a more \n",
      "# reliable way to host our csv file later\n",
      "data = read_csv(\"https://piazza.com/class_profile/get_resource/hkyfvggfat84vl/hnnxl94gqitqb\")\n",
      "clean_data = data.dropna(axis=0, how='any')"
     ],
     "language": "python",
     "metadata": {},
     "outputs": [],
     "prompt_number": 3
    },
    {
     "cell_type": "markdown",
     "metadata": {},
     "source": [
      "**Get some relevant data using the first two columns (date and time), and the 'MAG' column (Magnitude)**"
     ]
    },
    {
     "cell_type": "code",
     "collapsed": false,
     "input": [
      "quake_mag = clean_data['MAG'].tolist()\n",
      "quake_mag[0:10]"
     ],
     "language": "python",
     "metadata": {},
     "outputs": [
      {
       "metadata": {},
       "output_type": "pyout",
       "prompt_number": 4,
       "text": [
        "[0.75, 1.61, 0.28, 0.64, 0.83, 1.87, 1.13, 1.66, 1.01, 0.67]"
       ]
      }
     ],
     "prompt_number": 4
    },
    {
     "cell_type": "code",
     "collapsed": false,
     "input": [
      "quake_date = clean_data['YYYY/MM/DD']\n",
      "quake_time = clean_data['HH:mm:SS.ss']\n",
      "\n",
      "quake_dt = [parser.parse(date + \" \" + time) for date, time in zip(quake_date, quake_time)]\n",
      "quake_dt[0:10]"
     ],
     "language": "python",
     "metadata": {},
     "outputs": [
      {
       "metadata": {},
       "output_type": "pyout",
       "prompt_number": 5,
       "text": [
        "[datetime.datetime(2013, 1, 1, 0, 55, 30, 860000),\n",
        " datetime.datetime(2013, 1, 1, 1, 22, 48, 220000),\n",
        " datetime.datetime(2013, 1, 1, 1, 30, 15, 240000),\n",
        " datetime.datetime(2013, 1, 1, 1, 50, 54, 740000),\n",
        " datetime.datetime(2013, 1, 1, 2, 0, 11, 270000),\n",
        " datetime.datetime(2013, 1, 1, 2, 47, 58, 480000),\n",
        " datetime.datetime(2013, 1, 1, 3, 1, 55, 100000),\n",
        " datetime.datetime(2013, 1, 1, 3, 29, 39, 680000),\n",
        " datetime.datetime(2013, 1, 1, 6, 10, 5, 130000),\n",
        " datetime.datetime(2013, 1, 1, 6, 36, 26, 70000)]"
       ]
      }
     ],
     "prompt_number": 5
    },
    {
     "cell_type": "markdown",
     "metadata": {},
     "source": [
      "**Extracts the alarm length for each possible quake**"
     ]
    },
    {
     "cell_type": "code",
     "collapsed": false,
     "input": [
      "def basic_mda(tau, u, mag):\n",
      "    return tau * (u ** mag)"
     ],
     "language": "python",
     "metadata": {},
     "outputs": [],
     "prompt_number": 6
    },
    {
     "cell_type": "code",
     "collapsed": false,
     "input": [
      "def mda(mag, dt, tau=0.7, funct=basic_mda):\n",
      "    \"\"\"\n",
      "    Uses basic MDA model (tau*u^mag) to predict earthquakes.\n",
      "    Returns tuple of (start, end) representing date range when alarm should be on.\n",
      "    MAG: list of earthquake magnitudes\n",
      "    DT: list of earthquake datetimes in python datetime format\n",
      "    (MAG and DT have the same length and come from earthquakes data frame)\n",
      "    \"\"\"\n",
      "    assert len(mag) == len(dt), \"Dude are you mad?\"\n",
      "    \n",
      "    tau = 0.7 # we will figure out what tau is later\n",
      "    u = 4 # we will add fancy tuning functionality later\n",
      "    alarms = []\n",
      "    \n",
      "    for i in range(0, len(mag)):\n",
      "        alarm_length = funct(tau, u, mag[i])\n",
      "        val = datetime.timedelta(seconds=alarm_length)\n",
      "        rng = (dt[i] + datetime.timedelta(seconds=1), \n",
      "               dt[i] + val)\n",
      "        alarms.append(rng)\n",
      "    return alarms"
     ],
     "language": "python",
     "metadata": {},
     "outputs": [],
     "prompt_number": 7
    },
    {
     "cell_type": "code",
     "collapsed": false,
     "input": [
      "alarm_ranges = mda(quake_mag, quake_dt)\n",
      "alarm_ranges[0:10]"
     ],
     "language": "python",
     "metadata": {},
     "outputs": [
      {
       "metadata": {},
       "output_type": "pyout",
       "prompt_number": 8,
       "text": [
        "[(datetime.datetime(2013, 1, 1, 0, 55, 31, 860000),\n",
        "  datetime.datetime(2013, 1, 1, 0, 55, 32, 839899)),\n",
        " (datetime.datetime(2013, 1, 1, 1, 22, 49, 220000),\n",
        "  datetime.datetime(2013, 1, 1, 1, 22, 54, 742508)),\n",
        " (datetime.datetime(2013, 1, 1, 1, 30, 16, 240000),\n",
        "  datetime.datetime(2013, 1, 1, 1, 30, 16, 271988)),\n",
        " (datetime.datetime(2013, 1, 1, 1, 50, 55, 740000),\n",
        "  datetime.datetime(2013, 1, 1, 1, 50, 56, 439873)),\n",
        " (datetime.datetime(2013, 1, 1, 2, 0, 12, 270000),\n",
        "  datetime.datetime(2013, 1, 1, 2, 0, 13, 482116)),\n",
        " (datetime.datetime(2013, 1, 1, 2, 47, 59, 480000),\n",
        "  datetime.datetime(2013, 1, 1, 2, 48, 7, 832985)),\n",
        " (datetime.datetime(2013, 1, 1, 3, 1, 56, 100000),\n",
        "  datetime.datetime(2013, 1, 1, 3, 1, 58, 452940)),\n",
        " (datetime.datetime(2013, 1, 1, 3, 29, 40, 680000),\n",
        "  datetime.datetime(2013, 1, 1, 3, 29, 46, 670651)),\n",
        " (datetime.datetime(2013, 1, 1, 6, 10, 6, 130000),\n",
        "  datetime.datetime(2013, 1, 1, 6, 10, 7, 969087)),\n",
        " (datetime.datetime(2013, 1, 1, 6, 36, 27, 70000),\n",
        "  datetime.datetime(2013, 1, 1, 6, 36, 27, 842059))]"
       ]
      }
     ],
     "prompt_number": 8
    },
    {
     "cell_type": "code",
     "collapsed": false,
     "input": [
      "data_we_need = {'Latitude': clean_data['LAT'], 'Longitude': clean_data['LON'], \n",
      "                'Alarm Begins': [alarm[0] for alarm in alarm_ranges], \n",
      "                'Alarm Ends': [alarm[1] for alarm in alarm_ranges]}\n",
      "dframe = pd.DataFrame(data_we_need)\n",
      "dframe[0:10]"
     ],
     "language": "python",
     "metadata": {},
     "outputs": [
      {
       "html": [
        "<div style=\"max-height:1000px;max-width:1500px;overflow:auto;\">\n",
        "<table border=\"1\" class=\"dataframe\">\n",
        "  <thead>\n",
        "    <tr style=\"text-align: right;\">\n",
        "      <th></th>\n",
        "      <th>Alarm Begins</th>\n",
        "      <th>Alarm Ends</th>\n",
        "      <th>Latitude</th>\n",
        "      <th>Longitude</th>\n",
        "    </tr>\n",
        "  </thead>\n",
        "  <tbody>\n",
        "    <tr>\n",
        "      <th>0</th>\n",
        "      <td>2013-01-01 00:55:31.860000</td>\n",
        "      <td>2013-01-01 00:55:32.839899</td>\n",
        "      <td> 33.973</td>\n",
        "      <td>-116.807</td>\n",
        "    </tr>\n",
        "    <tr>\n",
        "      <th>1</th>\n",
        "      <td>2013-01-01 01:22:49.220000</td>\n",
        "      <td>2013-01-01 01:22:54.742508</td>\n",
        "      <td> 34.909</td>\n",
        "      <td>-119.596</td>\n",
        "    </tr>\n",
        "    <tr>\n",
        "      <th>2</th>\n",
        "      <td>2013-01-01 01:30:16.240000</td>\n",
        "      <td>2013-01-01 01:30:16.271988</td>\n",
        "      <td> 35.946</td>\n",
        "      <td>-117.662</td>\n",
        "    </tr>\n",
        "    <tr>\n",
        "      <th>3</th>\n",
        "      <td>2013-01-01 01:50:55.740000</td>\n",
        "      <td>2013-01-01 01:50:56.439873</td>\n",
        "      <td> 33.704</td>\n",
        "      <td>-116.751</td>\n",
        "    </tr>\n",
        "    <tr>\n",
        "      <th>4</th>\n",
        "      <td>2013-01-01 02:00:12.270000</td>\n",
        "      <td>2013-01-01 02:00:13.482116</td>\n",
        "      <td> 33.276</td>\n",
        "      <td>-116.780</td>\n",
        "    </tr>\n",
        "    <tr>\n",
        "      <th>5</th>\n",
        "      <td>2013-01-01 02:47:59.480000</td>\n",
        "      <td>2013-01-01 02:48:07.832985</td>\n",
        "      <td> 33.782</td>\n",
        "      <td>-118.358</td>\n",
        "    </tr>\n",
        "    <tr>\n",
        "      <th>6</th>\n",
        "      <td>2013-01-01 03:01:56.100000</td>\n",
        "      <td>2013-01-01 03:01:58.452940</td>\n",
        "      <td> 34.177</td>\n",
        "      <td>-117.364</td>\n",
        "    </tr>\n",
        "    <tr>\n",
        "      <th>7</th>\n",
        "      <td>2013-01-01 03:29:40.680000</td>\n",
        "      <td>2013-01-01 03:29:46.670651</td>\n",
        "      <td> 36.155</td>\n",
        "      <td>-118.064</td>\n",
        "    </tr>\n",
        "    <tr>\n",
        "      <th>8</th>\n",
        "      <td>2013-01-01 06:10:06.130000</td>\n",
        "      <td>2013-01-01 06:10:07.969087</td>\n",
        "      <td> 36.151</td>\n",
        "      <td>-118.073</td>\n",
        "    </tr>\n",
        "    <tr>\n",
        "      <th>9</th>\n",
        "      <td>2013-01-01 06:36:27.070000</td>\n",
        "      <td>2013-01-01 06:36:27.842059</td>\n",
        "      <td> 33.658</td>\n",
        "      <td>-116.733</td>\n",
        "    </tr>\n",
        "  </tbody>\n",
        "</table>\n",
        "</div>"
       ],
       "metadata": {},
       "output_type": "pyout",
       "prompt_number": 9,
       "text": [
        "                Alarm Begins                 Alarm Ends  Latitude  Longitude\n",
        "0 2013-01-01 00:55:31.860000 2013-01-01 00:55:32.839899    33.973   -116.807\n",
        "1 2013-01-01 01:22:49.220000 2013-01-01 01:22:54.742508    34.909   -119.596\n",
        "2 2013-01-01 01:30:16.240000 2013-01-01 01:30:16.271988    35.946   -117.662\n",
        "3 2013-01-01 01:50:55.740000 2013-01-01 01:50:56.439873    33.704   -116.751\n",
        "4 2013-01-01 02:00:12.270000 2013-01-01 02:00:13.482116    33.276   -116.780\n",
        "5 2013-01-01 02:47:59.480000 2013-01-01 02:48:07.832985    33.782   -118.358\n",
        "6 2013-01-01 03:01:56.100000 2013-01-01 03:01:58.452940    34.177   -117.364\n",
        "7 2013-01-01 03:29:40.680000 2013-01-01 03:29:46.670651    36.155   -118.064\n",
        "8 2013-01-01 06:10:06.130000 2013-01-01 06:10:07.969087    36.151   -118.073\n",
        "9 2013-01-01 06:36:27.070000 2013-01-01 06:36:27.842059    33.658   -116.733"
       ]
      }
     ],
     "prompt_number": 9
    },
    {
     "cell_type": "code",
     "collapsed": false,
     "input": [],
     "language": "python",
     "metadata": {},
     "outputs": []
    }
   ],
   "metadata": {}
  }
 ]
}