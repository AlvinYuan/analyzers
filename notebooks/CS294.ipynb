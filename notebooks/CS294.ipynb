{
 "metadata": {
  "name": "",
  "signature": "sha256:cf1cbfdb5bf614a71856d048a619b068a0677ce59ce0997f3376b794ecfdd6ef"
 },
 "nbformat": 3,
 "nbformat_minor": 0,
 "worksheets": [
  {
   "cells": [
    {
     "cell_type": "heading",
     "level": 1,
     "metadata": {},
     "source": [
      "General Imports"
     ]
    },
    {
     "cell_type": "code",
     "collapsed": false,
     "input": [
      "from ggplot import *\n",
      "import datetime\n",
      "import time\n",
      "import urllib\n",
      "import numpy as np\n",
      "import pandas as pd\n",
      "from pandas import read_csv\n",
      "from pprint import pprint\n",
      "from datetime import timedelta\n",
      "import scipy\n",
      "import pylab\n",
      "%matplotlib inline"
     ],
     "language": "python",
     "metadata": {},
     "outputs": [],
     "prompt_number": 1
    },
    {
     "cell_type": "heading",
     "level": 1,
     "metadata": {},
     "source": [
      "Data Preparation"
     ]
    },
    {
     "cell_type": "code",
     "collapsed": false,
     "input": [
      "%%time\n",
      "\"\"\"\n",
      "Reads all year.catalog.csv files in github repo.\n",
      "Loads it all into one DataFrame.\n",
      "Does not remove null values, but data seems clean in this sense already.\n",
      "XXX: Note that the row index number appears multiple times. Use iloc and related instead of loc?\n",
      "\"\"\"\n",
      "def load_data(YEAR_MIN=1932, YEAR_MAX=2013):\n",
      "    FILE_DIR = \"../data_from_curators/\"\n",
      "    df = pd.DataFrame()\n",
      "    for yr in range(YEAR_MIN, YEAR_MAX+1):\n",
      "        filepath = FILE_DIR + \"%d.catalog.csv\" % yr\n",
      "        df = df.append(pd.read_csv(filepath))\n",
      "    # Convert time fields to a datetime object\n",
      "    df[\"datetime\"] = pd.to_datetime(df.apply(lambda row: row[\"YYYY/MM/DD\"] + \" \" + row[\"HH:mm:SS.ss\"], axis=1))\n",
      "    return df\n",
      "\n",
      "# May take ~ 1 minute\n",
      "full_data = load_data(1932, 2013)"
     ],
     "language": "python",
     "metadata": {},
     "outputs": [
      {
       "output_type": "stream",
       "stream": "stdout",
       "text": [
        "CPU times: user 1min 16s, sys: 2.4 s, total: 1min 18s\n",
        "Wall time: 1min 18s\n"
       ]
      }
     ],
     "prompt_number": 2
    },
    {
     "cell_type": "code",
     "collapsed": false,
     "input": [
      "\"\"\"\n",
      "Some Things we might want to filter events by:\n",
      "Magnitude > value\n",
      "ET unusual types\n",
      "M unusual types\n",
      "quality if using location/depth data\n",
      "\"\"\"\n",
      "print [ k for k in full_data.groupby(\"ET\").groups]\n",
      "print [ k for k in full_data.groupby(\"M\").groups]"
     ],
     "language": "python",
     "metadata": {},
     "outputs": [
      {
       "output_type": "stream",
       "stream": "stdout",
       "text": [
        "['re', 'le', 'qb']\n",
        "['c', 'b', 'e', 'd', 'h', 'l', 'n', 's', 'un', 'w']"
       ]
      },
      {
       "output_type": "stream",
       "stream": "stdout",
       "text": [
        "\n"
       ]
      }
     ],
     "prompt_number": 3
    },
    {
     "cell_type": "code",
     "collapsed": false,
     "input": [
      "\"\"\"\n",
      "Filter out quarry blasts?\n",
      "Filter by Magnitude >= 3\n",
      "\"\"\"\n",
      "full_data = full_data[(full_data[\"ET\"] != 'qb') & (full_data[\"MAG\"] >= 3)]"
     ],
     "language": "python",
     "metadata": {},
     "outputs": [],
     "prompt_number": 4
    },
    {
     "cell_type": "code",
     "collapsed": false,
     "input": [
      "\"\"\"\n",
      "Some sanity checks\n",
      "\"\"\"\n",
      "print full_data.info()\n",
      "print full_data[:10]"
     ],
     "language": "python",
     "metadata": {},
     "outputs": [
      {
       "output_type": "stream",
       "stream": "stdout",
       "text": [
        "<class 'pandas.core.frame.DataFrame'>\n",
        "Int64Index: 19968 entries, 2 to 16047\n",
        "Data columns (total 13 columns):\n",
        "YYYY/MM/DD     19968 non-null object\n",
        "HH:mm:SS.ss    19968 non-null object\n",
        "ET             19968 non-null object\n",
        "MAG            19968 non-null float64\n",
        "M              19968 non-null object\n",
        "LAT            19968 non-null float64\n",
        "LON            19968 non-null float64\n",
        "DEPTH          19968 non-null float64\n",
        "Q              19968 non-null object\n",
        "EVID           19968 non-null float64\n",
        "NPH            19968 non-null float64\n",
        "NGRM           19968 non-null float64\n",
        "datetime       19968 non-null datetime64[ns]\n",
        "dtypes: datetime64[ns](1), float64(7), object(5)None\n",
        "    YYYY/MM/DD  HH:mm:SS.ss  ET   MAG  M     LAT      LON  DEPTH  Q     EVID  \\\n",
        "2   1932/01/03  17:58:10.01  le  3.00  h  32.000 -116.000    6.0  D  3358388   \n",
        "8   1932/01/07  14:55:43.92  le  3.00  h  32.000 -116.000    6.0  D  3358408   \n",
        "10  1932/01/10  10:44:54.53  le  3.05  h  33.857 -117.537    6.0  C  3358412   \n",
        "12  1932/01/10  15:39:29.57  le  3.00  h  33.657 -116.846    6.0  D  3358414   \n",
        "14  1932/01/14  00:51:15.31  le  3.00  h  34.162 -119.878    6.0  C  3358416   \n",
        "15  1932/01/14  03:16:21.46  le  3.23  l  36.545 -118.046    6.0  D  3358429   \n",
        "16  1932/01/14  08:55:48.01  le  3.00  h  34.057 -118.597    6.0  C  3358432   \n",
        "17  1932/01/14  19:35:51.60  le  3.00  h  33.880 -118.094    6.0  C  3358435   \n",
        "23  1932/01/20  20:21:38.36  le  3.50  h  33.470 -118.300    6.0  C  3358478   \n",
        "25  1932/01/21  03:07:26.90  le  3.00  h  34.086 -117.426   15.2  B  3358486   \n",
        "\n",
        "    NPH  NGRM                   datetime  \n",
        "2     7     0 1932-01-03 17:58:10.010000  \n",
        "8     7     0 1932-01-07 14:55:43.920000  \n",
        "10   14     0 1932-01-10 10:44:54.530000  \n",
        "12   15     0 1932-01-10 15:39:29.570000  \n",
        "14   12     0 1932-01-14 00:51:15.310000  \n",
        "15   12     0 1932-01-14 03:16:21.460000  \n",
        "16   12     0 1932-01-14 08:55:48.010000  \n",
        "17   15     0 1932-01-14 19:35:51.600000  \n",
        "23   15     0 1932-01-20 20:21:38.360000  \n",
        "25   14     0 1932-01-21 03:07:26.900000  \n"
       ]
      }
     ],
     "prompt_number": 5
    },
    {
     "cell_type": "code",
     "collapsed": false,
     "input": [
      "\"\"\"\n",
      "Split data into training, validation, and test sets.\n",
      "Splits based on order: training is earliest data, validation is middle, test is latest.\n",
      "Cannot split randomly because we believe there is time clustering.\n",
      "This may introduce confounds with quality of data though (is earlier data more reliable?).\n",
      "For now, assume data quality is constant across time.\n",
      "\"\"\"\n",
      "def split_data(data, training_size, validation_size, test_size):\n",
      "    assert(training_size + validation_size + test_size == 1)\n",
      "    validation_start = int(len(data) * training_size)\n",
      "    test_start = int(len(data) * (training_size + validation_size))\n",
      "    return (data[:validation_start], data[validation_start:test_start], data[test_start:])\n",
      "\n",
      "training, validation, test = split_data(full_data, .7, 0, .3)\n",
      "assert(len(training) + len(validation) + len(test) == len(full_data))\n",
      "print len(training), len(test)\n",
      "\n"
     ],
     "language": "python",
     "metadata": {},
     "outputs": [
      {
       "output_type": "stream",
       "stream": "stdout",
       "text": [
        "13977 5991\n"
       ]
      }
     ],
     "prompt_number": 6
    },
    {
     "cell_type": "code",
     "collapsed": false,
     "input": [
      "\"\"\"\n",
      "Some basic data to use when testing functions.\n",
      "Do not use these variables for model testing. Define new variables instead. \n",
      "New variables can have the same value as these in some cases; this step is just to ensure you know what you're doing. \n",
      "Also: shows how to convert data into matrix form\n",
      "\"\"\"\n",
      "event_times_trial = np.matrix(training[\"datetime\"].values).getT()\n",
      "event_magnitudes_trial = np.matrix(training[\"MAG\"].values).getT()"
     ],
     "language": "python",
     "metadata": {},
     "outputs": [],
     "prompt_number": 7
    },
    {
     "cell_type": "heading",
     "level": 1,
     "metadata": {},
     "source": [
      "Model Functions"
     ]
    },
    {
     "cell_type": "code",
     "collapsed": false,
     "input": [
      "\"\"\"\n",
      "Helper function to get offsets between events\n",
      "offsets are floats representing SMALLEST_TIMEDELTA units.\n",
      "\"\"\"\n",
      "SMALLEST_TIMEDELTA = np.timedelta64(1, \"D\")\n",
      "\n",
      "def offsets_from_first_event(event_times):\n",
      "    return (event_times - event_times[0]) / SMALLEST_TIMEDELTA\n",
      "\n",
      "# Returns n fewer rows than input.\n",
      "def offset_till_nth_next(event_times, n):\n",
      "    event_times_shifted = event_times[n:,0]\n",
      "    return (event_times_shifted - event_times[:-n]) / SMALLEST_TIMEDELTA"
     ],
     "language": "python",
     "metadata": {},
     "outputs": [],
     "prompt_number": 8
    },
    {
     "cell_type": "heading",
     "level": 2,
     "metadata": {},
     "source": [
      "Alarm Model Functions"
     ]
    },
    {
     "cell_type": "code",
     "collapsed": false,
     "input": [
      "\"\"\"\n",
      "Combines time offsets with event times to get alarm times\n",
      "\"\"\"\n",
      "def alarms_from_offsets(event_time_offsets, start_offsets, stop_offsets):\n",
      "    event_time_offsets2 = np.repeat(event_time_offsets, 2, axis=1)\n",
      "    offsets = np.concatenate((np.mat(start_offsets), np.mat(stop_offsets)), axis=1)\n",
      "    return event_time_offsets2 + offsets"
     ],
     "language": "python",
     "metadata": {},
     "outputs": [],
     "prompt_number": 9
    },
    {
     "cell_type": "heading",
     "level": 3,
     "metadata": {},
     "source": [
      "MDA"
     ]
    },
    {
     "cell_type": "code",
     "collapsed": false,
     "input": [
      "\"\"\"\n",
      "Basic MDA model (tau*u^mag)\n",
      "Returns a Nx2 matrix, where each row is a (start, end) offset pair \n",
      "    representing the alarm for a particular event (N events total).\n",
      "\"\"\"\n",
      "def mda(event_times, event_magnitudes, tau=1, u=5.8):\n",
      "    start_offsets = np.zeros([event_times.shape[0], 1])\n",
      "\n",
      "    # MDA\n",
      "    stop_offsets = tau * np.power(u, event_magnitudes)\n",
      "\n",
      "    return alarms_from_offsets(offsets_from_first_event(event_times), start_offsets, stop_offsets)"
     ],
     "language": "python",
     "metadata": {},
     "outputs": [],
     "prompt_number": 10
    },
    {
     "cell_type": "heading",
     "level": 3,
     "metadata": {},
     "source": [
      "Simple Automatic Alarm"
     ]
    },
    {
     "cell_type": "code",
     "collapsed": false,
     "input": [
      "\"\"\"\n",
      "Basic automatic alarm (constant time offset).\n",
      "Returns a Nx2 matrix, where each row is a (start, end) datetime pair \n",
      "    representing the alarm for a particular event (N events total).\n",
      "\"\"\"\n",
      "def automatic_alarm(event_times, alarm_length=1):\n",
      "    start_offsets = np.zeros([event_times.shape[0], 1])\n",
      "\n",
      "    # Automatic alarm\n",
      "    stop_offsets = alarm_length * np.ones([event_times.shape[0], 1])\n",
      "\n",
      "    return alarms_from_offsets(offsets_from_first_event(event_times), start_offsets, stop_offsets)"
     ],
     "language": "python",
     "metadata": {},
     "outputs": [],
     "prompt_number": 11
    },
    {
     "cell_type": "heading",
     "level": 3,
     "metadata": {},
     "source": [
      "Machine Learning Models Helper Functions"
     ]
    },
    {
     "cell_type": "code",
     "collapsed": false,
     "input": [
      "\"\"\"\n",
      "Machine Learning Models don't naturally output alarms.\n",
      "These functions help convert a machine learning model to an alarm model.\n",
      "Alarm function generators output alarm functions that translate machine learning outputs to alarms.\n",
      "The combination of convert_time_prediction_model_to_alarm_model and alarm function generators\n",
      "allows a lot of flexibility in how to incorporate machine learning models.\n",
      "\"\"\"\n",
      "def convert_time_prediction_model_to_alarm_model(fitted_model, alarm_func):\n",
      "    def get_alarms(data_to_predict, event_times):\n",
      "        time_predictions = np.matrix(fitted_model.predict(data_to_predict))\n",
      "        if time_predictions.shape[0] == 1:\n",
      "            time_predictions = time_predictions.getT()\n",
      "        start_offsets, stop_offsets = alarm_func(time_predictions)\n",
      "        return alarms_from_offsets(offsets_from_first_event(event_times), start_offsets, stop_offsets)\n",
      "\n",
      "    return get_alarms\n",
      "\n",
      "def simple_alarm_func_generator(multiplier):\n",
      "    def alarm_func(time_predictions):\n",
      "        start_offsets = np.zeros([time_predictions.shape[0], 1])\n",
      "        stop_offsets = multiplier * time_predictions\n",
      "        return start_offsets, stop_offsets\n",
      "\n",
      "    return alarm_func\n",
      "\n",
      "# TO DO: (MVG)\n",
      "# Write ETAS model probability threshold alarm\n",
      "def etas_alarm_func_generator(etas_parameters):\n",
      "    def alarm_func(time_predictions, magnitude_predictions):\n",
      "        #conditional_intensity = mu + sum()\n",
      "        start_offsets = np.zeros([time_predictions.shape[0],1])\n",
      "        #stop_offsets = [Prob threshold calculation]\n",
      "        return start_offsets, stop_offsets\n",
      "    \n",
      "    return alarm_func"
     ],
     "language": "python",
     "metadata": {},
     "outputs": [],
     "prompt_number": 12
    },
    {
     "cell_type": "code",
     "collapsed": false,
     "input": [
      "\"\"\"\n",
      "Mock up of ETAS conditional intensity calculation.\n",
      "Work in progress.\n",
      "Using temporal ETAS estimate for parameters (Luen p79)\n",
      "\"\"\"\n",
      "\n",
      "etas_parameters = dict([('mu',0.330),('K',0.0225),('alpha',0.688),('c',0.0377),('p',1.39),('mo',3.0)])\n",
      "locals().update(etas_parameters) # Define dict keys as local variables\n",
      "t = np.arange(500) #days\n",
      "t_i = np.array([10,100,200,300,400])\n",
      "m_i = np.array([4,5.1,6.0,3.2,4.1])\n",
      "conditional_intensity = np.zeros(len(t))\n",
      "for j in range(len(t)-1):\n",
      "    conditional_intensity[j] = mu\n",
      "    for i in range(len(t_i)-1):\n",
      "        if t[j] >= t_i[i]:\n",
      "            conditional_intensity[j] += (K * 10**(alpha*(m_i[i] - mo))) / (t[j] - t_i[i] + c)**p\n",
      "pylab.plot(conditional_intensity)\n",
      "pylab.ylim([0,1])\n",
      "# Scale/behavior looks wrong....\n"
     ],
     "language": "python",
     "metadata": {},
     "outputs": [
      {
       "metadata": {},
       "output_type": "pyout",
       "prompt_number": 13,
       "text": [
        "(0, 1)"
       ]
      },
      {
       "metadata": {},
       "output_type": "display_data",
       "png": "[encoded data removed]",
       "text": [
        "<matplotlib.figure.Figure at 0x117b656d0>"
       ]
      }
     ],
     "prompt_number": 13
    },
    {
     "cell_type": "heading",
     "level": 3,
     "metadata": {},
     "source": [
      "Alarm Output Processing Function"
     ]
    },
    {
     "cell_type": "code",
     "collapsed": false,
     "input": [
      "%%time\n",
      "\"\"\"\n",
      "Alarm models do a simple mapping of event -> alarm start and end times.\n",
      "This function processes the alarms output produced by alarm models.\n",
      "The output of this feeds easily into relevant evaluation functions (alarm_fraction, error_ratio)\n",
      "ASSUMPTION: alarm starts are immediately after events.\n",
      "\"\"\"\n",
      "def process_alarms(event_times, alarms):\n",
      "    event_time_offsets = offsets_from_first_event(event_times)\n",
      "    # Clean up alarms by capping values to last event time\n",
      "    alarms[:,1] = np.minimum(event_time_offsets[-1,0], alarms[:,1])\n",
      "\n",
      "    previous_alarm_ends = np.insert(alarms[:,1],0,0).getT() # offset alarm ends by 1\n",
      "    latest_previous_alarm_end = np.maximum.accumulate(previous_alarm_ends)[:-1]\n",
      "    predicted = np.greater(latest_previous_alarm_end, event_time_offsets)\n",
      "    not_enclosed = np.greater(alarms[:,1], latest_previous_alarm_end)\n",
      "    time_contributions = np.add(\n",
      "        np.multiply((1 - predicted),(alarms[:,1] - alarms[:,0])), # count full alarm length for unpredicted events\n",
      "        np.multiply(np.multiply(predicted, not_enclosed), (alarms[:,1] - latest_previous_alarm_end)) # count additional alarm time for predicted but unenclosed events\n",
      "        # do not count alarm time of predicted and enclosed events\n",
      "        )\n",
      "    return predicted, time_contributions\n",
      "    \n",
      "alarms_trial = mda(event_times_trial, event_magnitudes_trial)\n",
      "predicted_trial, time_contributions_trial = process_alarms(event_times_trial, alarms_trial)"
     ],
     "language": "python",
     "metadata": {},
     "outputs": [
      {
       "output_type": "stream",
       "stream": "stdout",
       "text": [
        "CPU times: user 2.03 ms, sys: 773 \u00b5s, total: 2.8 ms\n",
        "Wall time: 1.85 ms\n"
       ]
      }
     ],
     "prompt_number": 14
    },
    {
     "cell_type": "code",
     "collapsed": false,
     "input": [
      "\"\"\"\n",
      "Some old code. No need to read this unless you want to.\n",
      "This was intended to find the multiplier (on alarm length) necessary to predict each event (1 multiplier per event).\n",
      "The idea was then once these multipliers were found, we could sort them and use percentile to find the multiplier\n",
      "necessary to predict x% earthquakes.\n",
      "With that, we can then form a function that takes x as an input and computes the corresponding alarm fraction.\n",
      "This would allow us to find evenly spaced points on the error curve without having to actually try arbitrary multiplier values.\n",
      "This doesn't work (I think) though, because the latest prior alarm for each earthquake changes based on the multiplier.\n",
      "Thus, we can't compute prediction rate without actually computing the alarms for each multiplier.\n",
      "\"\"\"\n",
      "pass\n",
      "#     latest_alarm_ends = np.maximum.accumulate(alarms[:, 1]) # latest alarm_end for each event\n",
      "#     latest_alarm_end_indices = np.logical_not((alarms[:, 1] - latest_alarm_ends) / np.timedelta64(1,\"ns\")) # true if alarm n is the latest alarm for event n\n",
      "#     latest_alarm_end_indices = np.multiply(latest_alarm_end_indices, np.mat(np.arange(latest_alarm_end_indices.shape[0])).getT()) # true -> index #\n",
      "#     latest_alarm_end_indices = np.maximum.accumulate(latest_alarm_end_indices) # false -> index # of latest alarm\n",
      "#     latest_alarm_end_indices = np.squeeze(np.asarray(latest_alarm_end_indices)) # convert to 1D array\n",
      "#     latest_alarms = alarms[latest_alarm_end_indices] # latest alarm for each event\n",
      "#     latest_prior_alarms = np.insert(latest_alarms, 0, [0, 0], axis=0)[:-1] # offset alarms by 1\n",
      "    \n",
      "#     prior_event_times = np.insert(event_times, 0, 0, axis=0)[:-1] \n",
      "#     alarm_lengths = latest_prior_alarms[:,1] - latest_prior_alarms[:,0]\n",
      "#     event_time_deltas = np.absolute(event_times - prior_event_times) + SMALLEST_TIMEDELTA # prevent 0\n",
      "#     multipliers = np.divide(event_time_deltas, alarm_lengths)[1:] # no multiplier will catch first event\n",
      "#     print np.max(multipliers), np.min(multipliers)"
     ],
     "language": "python",
     "metadata": {},
     "outputs": [],
     "prompt_number": 15
    },
    {
     "cell_type": "heading",
     "level": 1,
     "metadata": {},
     "source": [
      "Evaluation Functions"
     ]
    },
    {
     "cell_type": "code",
     "collapsed": false,
     "input": [
      "%%time \n",
      "\"\"\"\n",
      "Returns the fraction of time the alarm is on.\n",
      "Argument should be time_contributions output from process_alarms\n",
      "\"\"\"\n",
      "def alarm_fraction(event_times, time_contributions):\n",
      "    time_frame = (event_times[-1,0] - event_times[0, 0]) / SMALLEST_TIMEDELTA\n",
      "    alarm_time = np.sum(time_contributions)\n",
      "    return alarm_time / time_frame\n",
      "\n",
      "print alarm_fraction(event_times_trial, time_contributions_trial)"
     ],
     "language": "python",
     "metadata": {},
     "outputs": [
      {
       "output_type": "stream",
       "stream": "stdout",
       "text": [
        "1.0\n",
        "CPU times: user 265 \u00b5s, sys: 90 \u00b5s, total: 355 \u00b5s\n",
        "Wall time: 248 \u00b5s\n"
       ]
      }
     ],
     "prompt_number": 16
    },
    {
     "cell_type": "code",
     "collapsed": false,
     "input": [
      "%%time\n",
      "\"\"\"\n",
      "Returns the ratio of events missed by the alarm model.\n",
      "Argument should be predicted output from process_alarms\n",
      "\"\"\"\n",
      "def error_ratio(predicted):\n",
      "    return 1 - np.sum(predicted) / float(predicted.shape[0])\n",
      "\n",
      "print error_ratio(predicted_trial)"
     ],
     "language": "python",
     "metadata": {},
     "outputs": [
      {
       "output_type": "stream",
       "stream": "stdout",
       "text": [
        "0.000143092222938\n",
        "CPU times: user 296 \u00b5s, sys: 70 \u00b5s, total: 366 \u00b5s\n",
        "Wall time: 309 \u00b5s\n"
       ]
      }
     ],
     "prompt_number": 17
    },
    {
     "cell_type": "code",
     "collapsed": false,
     "input": [
      "\"\"\"\n",
      "Functions dealing with binning points and computing AUC\n",
      "check_coverage: will print empty bins if any indicating that the range of alarm fractions is spotty.\n",
      "\n",
      "clean_points: return points\n",
      "\n",
      "TODO: it's unclear whether evenly spaced points is better to use for AUC. Test this.\n",
      "There are two main characteristics of interest: accuracy (is it closer to the true AUC) and consistency\n",
      "\"\"\"\n",
      "NUM_BINS = 100.0\n",
      "bins = np.arange(NUM_BINS + 1) / NUM_BINS # defines bin edges. N bins = N+1 bin edges\n",
      "\n",
      "def check_coverage(x, y):\n",
      "    bincounts = scipy.stats.binned_statistic(x, y, statistic=\"count\", bins=bins)[0]\n",
      "    if np.min(bincounts) == 0:\n",
      "        print \"Empty bins\"\n",
      "        print bincounts\n",
      "    if np.sum(bincounts) != len(x):\n",
      "        print \"Unbinned values\"\n",
      "\n",
      "def clean_points(x, y):\n",
      "    x = np.array(x)\n",
      "    y = np.array(y)\n",
      "    sorted_indices = np.argsort(x)\n",
      "    return x[sorted_indices], y[sorted_indices]\n",
      "    # For returning evenly spaced points (see TODO comment in this cell)\n",
      "    # cleaned_y might want min instead of mean, though I don't know how to change it easily\n",
      "#     cleaned_y = scipy.stats.binned_statistic(x, y, statistic=\"mean\", bins=bins)[0]\n",
      "#     return bins, np.insert(cleaned_y, 0, 1)\n",
      "\n",
      "# Area under Curve via trapezoidal integration. Assumes points is cleaned (sorted)\n",
      "def score(points):\n",
      "    return np.trapz(points[1], points[0])"
     ],
     "language": "python",
     "metadata": {},
     "outputs": [],
     "prompt_number": 18
    },
    {
     "cell_type": "heading",
     "level": 1,
     "metadata": {},
     "source": [
      "Model Training and Evaluations"
     ]
    },
    {
     "cell_type": "markdown",
     "metadata": {},
     "source": [
      "AUC is computed by varying a multiplier in front of model alarm functions (tau for MDA). This multiplier is not considered a parameter of the model (not trained), but it needs to be there in code to evaluate the model.\n",
      "\n",
      "TODO: Currently, all evaluation is happening on the training data. Eventually, we want to switch evaluation to validation/test."
     ]
    },
    {
     "cell_type": "code",
     "collapsed": false,
     "input": [
      "\"\"\"\n",
      "Data structure to store model evaluation/plot data.\n",
      "Entries are of the form: \"label\": {\"training\": points, \"test\": points}\n",
      "\"\"\"\n",
      "baseline_models = {}\n",
      "tested_models = {}"
     ],
     "language": "python",
     "metadata": {},
     "outputs": [],
     "prompt_number": 19
    },
    {
     "cell_type": "heading",
     "level": 3,
     "metadata": {},
     "source": [
      "MDA"
     ]
    },
    {
     "cell_type": "code",
     "collapsed": false,
     "input": [
      "%%time\n",
      "# Set up Input/Output data\n",
      "training_event_times = np.matrix(training[\"datetime\"].values).getT()\n",
      "training_event_magnitudes = np.matrix(training[\"MAG\"].values).getT()\n",
      "test_event_times = np.matrix(test[\"datetime\"].values).getT()\n",
      "test_event_magnitudes = np.matrix(test[\"MAG\"].values).getT()\n",
      "\n",
      "# Training/Evaluation Variables\n",
      "max_alarm_length = np.max(offset_till_nth_next(training_event_times, 1))\n",
      "# Compute alarm_fractions and error_ratios for mda by varying tau\n",
      "mda_taus = [max_alarm_length * .985**i for i in range(1500)]\n",
      "\n",
      "# Set up Training\n",
      "best_mda_u = 0\n",
      "best_score = 1\n",
      "best_points = [];\n",
      "TRAIN_MDA = False\n",
      "if TRAIN_MDA:\n",
      "    # Values to test\n",
      "    mda_us = [2 + .1 * i for i in range(10 * (7-2))] # 2 to 7, step size .1\n",
      "else:\n",
      "    # Skip training\n",
      "    # Best value from training\n",
      "    mda_us = [5.4]\n",
      "\n",
      "# Training\n",
      "for u in mda_us:\n",
      "    mda_alarm_fractions = []\n",
      "    mda_error_ratios = []\n",
      "    for tau in mda_taus:\n",
      "        mda_alarms = mda(training_event_times, training_event_magnitudes, tau, u)\n",
      "        predicted, time_contributions = process_alarms(training_event_times, mda_alarms)\n",
      "        mda_alarm_fractions.append(alarm_fraction(training_event_times, time_contributions))\n",
      "        mda_error_ratios.append(error_ratio(predicted))\n",
      "    check_coverage(mda_alarm_fractions, mda_error_ratios)\n",
      "    points = clean_points(mda_alarm_fractions, mda_error_ratios)\n",
      "    u_score = score(points)\n",
      "    print u, u_score\n",
      "    if (u_score < best_score):\n",
      "        best_mda_u = u\n",
      "        best_score = u_score\n",
      "        best_points = points\n",
      "# Print Training Results\n",
      "print \"BEST: \", best_mda_u, best_score\n",
      "\n",
      "# Evaluation\n",
      "mda_alarm_fractions = []\n",
      "mda_error_ratios = []\n",
      "for tau in mda_taus:\n",
      "    mda_alarms = mda(test_event_times, test_event_magnitudes, tau, best_mda_u)\n",
      "    predicted, time_contributions = process_alarms(test_event_times, mda_alarms)\n",
      "    mda_alarm_fractions.append(alarm_fraction(test_event_times, time_contributions))\n",
      "    mda_error_ratios.append(error_ratio(predicted))\n",
      "\n",
      "check_coverage(mda_alarm_fractions, mda_error_ratios)\n",
      "test_points = clean_points(mda_alarm_fractions, mda_error_ratios)\n",
      "baseline_models[\"MDA\"] = {\"training\": best_points, \"test\": test_points}"
     ],
     "language": "python",
     "metadata": {},
     "outputs": [
      {
       "output_type": "stream",
       "stream": "stdout",
       "text": [
        "5.4 0.276130798274\n",
        "BEST:  5.4 0.276130798274\n",
        "CPU times: user 4.21 s, sys: 18.7 ms, total: 4.23 s"
       ]
      },
      {
       "output_type": "stream",
       "stream": "stdout",
       "text": [
        "\n",
        "Wall time: 4.29 s\n"
       ]
      }
     ],
     "prompt_number": 20
    },
    {
     "cell_type": "heading",
     "level": 3,
     "metadata": {},
     "source": [
      "Simple Automatic Alarm"
     ]
    },
    {
     "cell_type": "code",
     "collapsed": false,
     "input": [
      "%%time\n",
      "# Set up Input/Output data\n",
      "training_event_times = np.matrix(training[\"datetime\"].values).getT()\n",
      "test_event_times = np.matrix(test[\"datetime\"].values).getT()\n",
      "\n",
      "# Training/Evaluation Variables\n",
      "max_alarm_length = np.max(offset_till_nth_next(training_event_times, 1))\n",
      "# Compute alarm_fractions and error_ratios for simple automatic alarms by varying alarm_length\n",
      "aa_alarm_lengths = [max_alarm_length * .985**i for i in range(1500)]\n",
      "\n",
      "# Training\n",
      "# No Training for simple automatic alarm. Just evaluate Training data.\n",
      "aa_alarm_fractions = []\n",
      "aa_error_ratios = []\n",
      "for alarm_length in aa_alarm_lengths:\n",
      "    aa_alarms = automatic_alarm(training_event_times, alarm_length)\n",
      "    predicted, time_contributions = process_alarms(training_event_times, aa_alarms)\n",
      "    aa_alarm_fractions.append(alarm_fraction(training_event_times, time_contributions))\n",
      "    aa_error_ratios.append(error_ratio(predicted))\n",
      "\n",
      "check_coverage(aa_alarm_fractions, aa_error_ratios)\n",
      "training_points = clean_points(aa_alarm_fractions, aa_error_ratios)\n",
      "\n",
      "# Evaluation\n",
      "aa_alarm_fractions = []\n",
      "aa_error_ratios = []\n",
      "for alarm_length in aa_alarm_lengths:\n",
      "    aa_alarms = automatic_alarm(test_event_times, alarm_length)\n",
      "    predicted, time_contributions = process_alarms(test_event_times, aa_alarms)\n",
      "    aa_alarm_fractions.append(alarm_fraction(test_event_times, time_contributions))\n",
      "    aa_error_ratios.append(error_ratio(predicted))\n",
      "\n",
      "check_coverage(aa_alarm_fractions, aa_error_ratios)\n",
      "test_points = clean_points(aa_alarm_fractions, aa_error_ratios)\n",
      "\n",
      "baseline_models[\"AA\"] = { \"training\": training_points, \"test\": test_points }"
     ],
     "language": "python",
     "metadata": {},
     "outputs": [
      {
       "output_type": "stream",
       "stream": "stdout",
       "text": [
        "CPU times: user 2.94 s, sys: 13 ms, total: 2.95 s\n",
        "Wall time: 2.98 s\n"
       ]
      }
     ],
     "prompt_number": 21
    },
    {
     "cell_type": "heading",
     "level": 3,
     "metadata": {},
     "source": [
      "Scores and Plot"
     ]
    },
    {
     "cell_type": "code",
     "collapsed": false,
     "input": [
      "\"\"\"\n",
      "AUC values for curves\n",
      "TODO: add option to print all tested_models\n",
      "\"\"\"\n",
      "def printScoresAgainstBaselines(new_model_label):\n",
      "    labels = []\n",
      "    training_scores = []\n",
      "    test_scores = []\n",
      "    for label, points_dict in baseline_models.items():\n",
      "        labels.append(label)\n",
      "        training_scores.append(score(points_dict[\"training\"]))\n",
      "        test_scores.append(score(points_dict[\"test\"]))\n",
      "    if (new_model_label != None):\n",
      "        labels.append(new_model_label)\n",
      "        training_scores.append(score(tested_models[new_model_label][\"training\"]))\n",
      "        test_scores.append(score(tested_models[new_model_label][\"test\"]))\n",
      "    print pd.DataFrame({ \"Label\": labels, \"Training Score\": training_scores, \"Test Score\": test_scores })\n",
      "    \n",
      "printScoresAgainstBaselines(None)"
     ],
     "language": "python",
     "metadata": {},
     "outputs": [
      {
       "output_type": "stream",
       "stream": "stdout",
       "text": [
        "  Label  Test Score  Training Score\n",
        "0    AA    0.266637        0.283661\n",
        "1   MDA    0.250870        0.276131\n"
       ]
      }
     ],
     "prompt_number": 22
    },
    {
     "cell_type": "code",
     "collapsed": false,
     "input": [
      "\"\"\"\n",
      "Plot the commonly used chart\n",
      "Based off HW1 precision vs. recall plot\n",
      "\"\"\"\n",
      "colors = [\"b\", \"g\", \"r\", \"c\", \"m\", \"y\", \"k\", \"w\"]\n",
      "def plotAgainstBaselines(new_model_label, plotTraining=True):\n",
      "    pointsLabel = \"training\" if plotTraining else \"test\"\n",
      "    pylab.figure(figsize=(15,10))\n",
      "    pylab.title(\"Earthquake Model Performance Curves\")\n",
      "    pylab.xlabel(\"Alarm Fraction\")\n",
      "    pylab.ylabel(\"Error Ratio\")\n",
      "    pylab.xlim([0,1])\n",
      "    pylab.ylim([0,1])\n",
      "\n",
      "    color_index = 0\n",
      "    for label, points_dict in baseline_models.items():\n",
      "        pylab.plot(points_dict[pointsLabel][0], points_dict[pointsLabel][1],colors[color_index] + '--', label=label)\n",
      "        color_index += 1\n",
      "    if (new_model_label != None):\n",
      "        pylab.plot(tested_models[new_model_label][pointsLabel][0], tested_models[new_model_label][pointsLabel][1], colors[color_index] + '--', label=new_model_label)\n",
      "    pylab.legend()\n",
      "    pylab.show()\n",
      "\n",
      "plotAgainstBaselines(None)"
     ],
     "language": "python",
     "metadata": {},
     "outputs": [
      {
       "metadata": {},
       "output_type": "display_data",
       "png": "[encoded data removed]",
       "text": [
        "<matplotlib.figure.Figure at 0x116f9bdd0>"
       ]
      }
     ],
     "prompt_number": 23
    },
    {
     "cell_type": "code",
     "collapsed": false,
     "input": [
      "\"\"\"\n",
      "Shows distribution (spacing) of tau.\n",
      "\"\"\"\n",
      "color_index=0\n",
      "for label, points_dict in baseline_models.items():\n",
      "    pylab.plot(points_dict[\"training\"][0],colors[color_index]+'--', label=label)\n",
      "    color_index += 1\n",
      "pylab.legend()\n",
      "pylab.show()"
     ],
     "language": "python",
     "metadata": {},
     "outputs": [
      {
       "metadata": {},
       "output_type": "display_data",
       "png": "[encoded data removed]",
       "text": [
        "<matplotlib.figure.Figure at 0x1161d3f90>"
       ]
      }
     ],
     "prompt_number": 24
    },
    {
     "cell_type": "heading",
     "level": 2,
     "metadata": {},
     "source": [
      "Machine Learning Exploration"
     ]
    },
    {
     "cell_type": "code",
     "collapsed": false,
     "input": [
      "%%time\n",
      "\"\"\"\n",
      "Input: raw magnitude, depth\n",
      "Output: time till next earthquake\n",
      "Model: LinearRegression\n",
      "Model Parameters: default\n",
      "Model->Alarm Model Function: simple_alarm_func_generator\n",
      "---Results---\n",
      "This is mainly to serve as an example of how to test out a new model.\n",
      "Please try to follow the same code structure as this example, including having the same comments that separate the code into chunks.\n",
      "You can copy and paste this into a new cell as a starting point.\n",
      "Also, try to write up some results (what you learned from the exploration).\n",
      "\n",
      "Here, we see that depth seems slightly correlated to time till next earthquake. \n",
      "The coefficient is small though. More exploration needed, but it seems possible.\n",
      "I believe I read somewhere that deeper earthquake origins are weaker at the surface (magnitude),\n",
      "so depth could be acting as a proxy to magnitude.\n",
      "Here, we see that there is a pretty weak fit for linear regression with these features.\n",
      "Perhaps more features might improve this: particularly features that incorporate past events.\n",
      "\"\"\"\n",
      "\n",
      "from sklearn import linear_model\n",
      "\n",
      "# Set up Input/Output data\n",
      "n = 1\n",
      "training_event_times = np.matrix(training[\"datetime\"].values).getT()\n",
      "training_matrix = np.matrix(training[[\"MAG\", \"DEPTH\"]].values)\n",
      "training_goals = offset_till_nth_next(training_event_times, n)\n",
      "test_event_times = np.matrix(test[\"datetime\"].values).getT()\n",
      "test_matrix = np.matrix(test[[\"MAG\", \"DEPTH\"]].values)\n",
      "\n",
      "# Set up Model\n",
      "model = linear_model.LinearRegression()\n",
      "\n",
      "# Set up Model->Alarm Model Function\n",
      "alarm_func_generator = simple_alarm_func_generator\n",
      "\n",
      "# Training/Evaluation Variables\n",
      "max_alarm_length = np.max(offset_till_nth_next(training_event_times, 1))\n",
      "# Compute alarm_fractions and error_ratios for regression trees on magnitude data by varying multipler\n",
      "multipliers = [max_alarm_length * .985**i for i in range(1500)]\n",
      "\n",
      "# Training\n",
      "model.fit(training_matrix[:-n,:], training_goals)\n",
      "alarm_fractions = []\n",
      "error_ratios = []\n",
      "for multiplier in multipliers:\n",
      "    alarm_model = convert_time_prediction_model_to_alarm_model(model, alarm_func_generator(multiplier))\n",
      "    alarms = alarm_model(training_matrix, training_event_times)\n",
      "    predicted, time_contributions = process_alarms(training_event_times, alarms)\n",
      "    alarm_fractions.append(alarm_fraction(training_event_times, time_contributions))\n",
      "    error_ratios.append(error_ratio(predicted))\n",
      "check_coverage(alarm_fractions, error_ratios)\n",
      "training_points = clean_points(alarm_fractions, error_ratios)\n",
      "# Print Training Results\n",
      "print \"Coefficients: \", model.coef_\n",
      "print \"Model Goodness of Fit: \", model.score(training_matrix[:-n,:], training_goals)\n",
      "\n",
      "# Evaluation\n",
      "alarm_fractions = []\n",
      "error_ratios = []\n",
      "for multiplier in multipliers:\n",
      "    alarm_model = convert_time_prediction_model_to_alarm_model(model, alarm_func_generator(multiplier))\n",
      "    alarms = alarm_model(test_matrix, test_event_times)\n",
      "    predicted, time_contributions = process_alarms(test_event_times, alarms)\n",
      "    alarm_fractions.append(alarm_fraction(test_event_times, time_contributions))\n",
      "    error_ratios.append(error_ratio(predicted))\n",
      "check_coverage(alarm_fractions, error_ratios)\n",
      "test_points = clean_points(alarm_fractions, error_ratios)\n",
      "\n",
      "label = \"Linear Regression (MAG, DEPTH)\"\n",
      "tested_models[label] = { \"training\": training_points, \"test\": test_points }\n",
      "\n",
      "# Print and Plot Results\n",
      "printScoresAgainstBaselines(label)\n",
      "plotAgainstBaselines(label)"
     ],
     "language": "python",
     "metadata": {},
     "outputs": [
      {
       "output_type": "stream",
       "stream": "stdout",
       "text": [
        "Coefficients:  [[-0.59907492  0.05154424]]\n",
        "Model Goodness of Fit:  0.0129241831721\n",
        "                            Label  Test Score  Training Score\n",
        "0                              AA    0.266637        0.283661\n",
        "1                             MDA    0.250870        0.276131\n",
        "2  Linear Regression (MAG, DEPTH)    0.268353        0.284660"
       ]
      },
      {
       "output_type": "stream",
       "stream": "stdout",
       "text": [
        "\n"
       ]
      },
      {
       "metadata": {},
       "output_type": "display_data",
       "png": "[encoded data removed]",
       "text": [
        "<matplotlib.figure.Figure at 0x111a83c10>"
       ]
      },
      {
       "output_type": "stream",
       "stream": "stdout",
       "text": [
        "CPU times: user 4.99 s, sys: 197 ms, total: 5.19 s\n",
        "Wall time: 5.3 s\n"
       ]
      }
     ],
     "prompt_number": 25
    },
    {
     "cell_type": "code",
     "collapsed": false,
     "input": [
      "%%time\n",
      "\"\"\"\n",
      "Input: magnitude in base-10 scale\n",
      "Output: time till next earthquake\n",
      "Model: LinearRegression\n",
      "Model Parameters: default\n",
      "Model->Alarm Model Function: simple_alarm_func_generator\n",
      "---Results---\n",
      "\n",
      "Here, we see that AOC score is closer to AA compare to the previous example. However, the coefficient is smaller than\n",
      "[\"MAG\",DEPTH\"] example.\n",
      "Also, I tried to only training DEPTH, but turns out to have bigger AOC.\n",
      "In conclusion, as a single parameter, [\"base-10 MAG\"] is more relevant than [\"DEPTH\"]\n",
      "\"\"\"\n",
      "\n",
      "from sklearn import linear_model\n",
      "# Set up Input/Output data\n",
      "n = 1\n",
      "training_event_times = np.matrix(training[\"datetime\"].values).getT()\n",
      "training_matrix = np.matrix(np.power(10, training[[\"MAG\"]].values)/1000.0)\n",
      "#training_matrix = np.matrix(training[[\"DEPTH\"]].values)\n",
      "print training_matrix.shape, training_goals.shape\n",
      "training_goals = offset_till_nth_next(training_event_times, n)\n",
      "test_event_times = np.matrix(test[\"datetime\"].values).getT()\n",
      "#test_matrix = np.matrix(test[[\"DEPTH\"]].values)\n",
      "test_matrix = np.matrix(np.power(10, test[[\"MAG\"]].values)/1000.0)\n",
      "\n",
      "# Set up Model\n",
      "model = linear_model.LinearRegression()\n",
      "\n",
      "# Set up Model->Alarm Model Function\n",
      "alarm_func_generator = simple_alarm_func_generator\n",
      "\n",
      "# Training/Evaluation Variables\n",
      "max_alarm_length = np.max(offset_till_nth_next(training_event_times, 1))\n",
      "# Compute alarm_fractions and error_ratios for regression trees on magnitude data by varying multipler\n",
      "multipliers = [max_alarm_length * .985**i for i in range(1500)]\n",
      "\n",
      "# Training\n",
      "model.fit(training_matrix[:-n,:], training_goals)\n",
      "alarm_fractions = []\n",
      "error_ratios = []\n",
      "for multiplier in multipliers:\n",
      "    alarm_model = convert_time_prediction_model_to_alarm_model(model, alarm_func_generator(multiplier))\n",
      "    alarms = alarm_model(training_matrix, training_event_times)\n",
      "    predicted, time_contributions = process_alarms(training_event_times, alarms)\n",
      "    alarm_fractions.append(alarm_fraction(training_event_times, time_contributions))\n",
      "    error_ratios.append(error_ratio(predicted))\n",
      "check_coverage(alarm_fractions, error_ratios)\n",
      "training_points = clean_points(alarm_fractions, error_ratios)\n",
      "# Print Training Results\n",
      "print \"Coefficients: \", model.coef_\n",
      "print \"Model Goodness of Fit: \", model.score(training_matrix[:-n,:], training_goals)\n",
      "\n",
      "# Evaluation\n",
      "alarm_fractions = []\n",
      "error_ratios = []\n",
      "for multiplier in multipliers:\n",
      "    alarm_model = convert_time_prediction_model_to_alarm_model(model, alarm_func_generator(multiplier))\n",
      "    alarms = alarm_model(test_matrix, test_event_times)\n",
      "    predicted, time_contributions = process_alarms(test_event_times, alarms)\n",
      "    alarm_fractions.append(alarm_fraction(test_event_times, time_contributions))\n",
      "    error_ratios.append(error_ratio(predicted))\n",
      "check_coverage(alarm_fractions, error_ratios)\n",
      "test_points = clean_points(alarm_fractions, error_ratios)\n",
      "\n",
      "label = \"Linear Regression (base-10 magnitude)\"\n",
      "tested_models[label] = { \"training\": training_points, \"test\": test_points }\n",
      "\n",
      "# Print and Plot Results\n",
      "printScoresAgainstBaselines(label)\n",
      "plotAgainstBaselines(label)"
     ],
     "language": "python",
     "metadata": {},
     "outputs": [
      {
       "output_type": "stream",
       "stream": "stdout",
       "text": [
        "(13977, 1) (13976, 1)\n",
        "Coefficients: "
       ]
      },
      {
       "output_type": "stream",
       "stream": "stdout",
       "text": [
        " [[-0.00015558]]\n",
        "Model Goodness of Fit:  0.000358792747327\n",
        "                                   Label  Test Score  Training Score\n",
        "0                                     AA    0.266637        0.283661\n",
        "1                                    MDA    0.250870        0.276131\n",
        "2  Linear Regression (base-10 magnitude)    0.266667        0.283678"
       ]
      },
      {
       "output_type": "stream",
       "stream": "stdout",
       "text": [
        "\n"
       ]
      },
      {
       "metadata": {},
       "output_type": "display_data",
       "png": "[encoded data removed]",
       "text": [
        "<matplotlib.figure.Figure at 0x11530ea50>"
       ]
      },
      {
       "output_type": "stream",
       "stream": "stdout",
       "text": [
        "CPU times: user 5.49 s, sys: 46.5 ms, total: 5.54 s\n",
        "Wall time: 5.63 s\n"
       ]
      }
     ],
     "prompt_number": 30
    },
    {
     "cell_type": "code",
     "collapsed": false,
     "input": [
      "\"\"\"\n",
      "Old Simple Regression Tree Stuff\n",
      "Only use this as a guide for doing regression tree stuff. \n",
      "For a guide on doing machine learning exploration, use the linear regression cell.\n",
      "\n",
      "Regression Trees\n",
      "\n",
      "There's a lot of exploration we can do here, but how we explore should make sense.\n",
      "Possible directions of exploration:\n",
      "- Data features to train on: MAG, LAT, LON, DEPTH, categories, functions of raw data\n",
      "-- We can think about having many events' data be on each row to account for clustering?\n",
      "- Output of tree model: right now it is time till next earthquake\n",
      "-- XXX: this is kind of the opposite of what we want? Large MAG supposedly = short time till next earthquake = long alarm.\n",
      "- Alarm functions\n",
      "-- Ex: if time till next is too large, ignore. Different relationships (linear, exponential, log)\n",
      "- Combine multiple models in some fashion (time till next 1,2,3 earthquakes -> alarm)\n",
      "- Better models: random forests, different model parameters\n",
      "\n",
      "TODO: DO LOG OF TIME\n",
      "\n",
      "\"\"\"\n",
      "from sklearn.tree import DecisionTreeRegressor\n",
      "\n",
      "# Format data\n",
      "event_times = np.matrix(training[\"datetime\"].values).getT()\n",
      "n = 1\n",
      "training_matrix = np.matrix(training[[\"MAG\", \"DEPTH\", \"LAT\",\"LON\"]].values)[:-n,:]\n",
      "testing_matrix = np.matrix(training[[\"MAG\", \"DEPTH\", \"LAT\",\"LON\"]].values)\n",
      "training_goals = offset_till_nth_next(event_times, n)\n",
      "\n",
      "# Model\n",
      "rt_model = DecisionTreeRegressor(max_depth=5) # 5 arbitrary\n",
      "\n",
      "# Train model\n",
      "rt_model.fit(training_matrix, training_goals)\n",
      "\n",
      "# Evaluation\n",
      "max_alarm_length = np.max(offset_till_nth_next(event_times, 1))\n",
      "# Compute alarm_fractions and error_ratios for regression trees on magnitude data by varying multipler\n",
      "rt_multipliers = [max_alarm_length * .985**i for i in range(1500)]\n",
      "rt_alarm_fractions = []\n",
      "rt_error_ratios = []\n",
      "\n",
      "for multiplier in rt_multipliers:\n",
      "    alarm_model = convert_time_prediction_model_to_alarm_model(rt_model, simple_alarm_func_generator(multiplier))\n",
      "    rt_alarms = alarm_model(testing_matrix, event_times)\n",
      "    predicted, time_contributions = process_alarms(event_times, rt_alarms)\n",
      "    rt_alarm_fractions.append(alarm_fraction(event_times, time_contributions))\n",
      "    rt_error_ratios.append(error_ratio(predicted))\n",
      "\n",
      "check_coverage(rt_alarm_fractions, rt_error_ratios)\n",
      "\n",
      "\"\"\"\n",
      "For viewing regression tree\n",
      "\"\"\"\n",
      "from sklearn import tree\n",
      "import StringIO \n",
      "import pydot\n",
      "from IPython.display import Image\n",
      "\n",
      "# From HW3\n",
      "\n",
      "def display_tree(tmodel):\n",
      "    dot_data = StringIO.StringIO()\n",
      "    tree.export_graphviz(tmodel, out_file=dot_data)\n",
      "    graph = pydot.graph_from_dot_data(dot_data.getvalue())\n",
      "    return Image(graph.create_png())\n",
      "\n",
      "display_tree(rt_model)\n",
      "# If too hard to read, right click and view image or copy image location and paste url into new tab"
     ],
     "language": "python",
     "metadata": {},
     "outputs": [
      {
       "output_type": "stream",
       "stream": "stdout",
       "text": [
        "Couldn't import dot_parser, loading of dot files will not be possible.\n"
       ]
      },
      {
       "ename": "NameError",
       "evalue": "global name 'dot_parser' is not defined",
       "output_type": "pyerr",
       "traceback": [
        "\u001b[0;31m---------------------------------------------------------------------------\u001b[0m\n\u001b[0;31mNameError\u001b[0m                                 Traceback (most recent call last)",
        "\u001b[0;32m<ipython-input-27-9a7b95e3b901>\u001b[0m in \u001b[0;36m<module>\u001b[0;34m()\u001b[0m\n\u001b[1;32m     67\u001b[0m     \u001b[0;32mreturn\u001b[0m \u001b[0mImage\u001b[0m\u001b[0;34m(\u001b[0m\u001b[0mgraph\u001b[0m\u001b[0;34m.\u001b[0m\u001b[0mcreate_png\u001b[0m\u001b[0;34m(\u001b[0m\u001b[0;34m)\u001b[0m\u001b[0;34m)\u001b[0m\u001b[0;34m\u001b[0m\u001b[0m\n\u001b[1;32m     68\u001b[0m \u001b[0;34m\u001b[0m\u001b[0m\n\u001b[0;32m---> 69\u001b[0;31m \u001b[0mdisplay_tree\u001b[0m\u001b[0;34m(\u001b[0m\u001b[0mrt_model\u001b[0m\u001b[0;34m)\u001b[0m\u001b[0;34m\u001b[0m\u001b[0m\n\u001b[0m\u001b[1;32m     70\u001b[0m \u001b[0;31m# If too hard to read, right click and view image or copy image location and paste url into new tab\u001b[0m\u001b[0;34m\u001b[0m\u001b[0;34m\u001b[0m\u001b[0m\n",
        "\u001b[0;32m<ipython-input-27-9a7b95e3b901>\u001b[0m in \u001b[0;36mdisplay_tree\u001b[0;34m(tmodel)\u001b[0m\n\u001b[1;32m     64\u001b[0m     \u001b[0mdot_data\u001b[0m \u001b[0;34m=\u001b[0m \u001b[0mStringIO\u001b[0m\u001b[0;34m.\u001b[0m\u001b[0mStringIO\u001b[0m\u001b[0;34m(\u001b[0m\u001b[0;34m)\u001b[0m\u001b[0;34m\u001b[0m\u001b[0m\n\u001b[1;32m     65\u001b[0m     \u001b[0mtree\u001b[0m\u001b[0;34m.\u001b[0m\u001b[0mexport_graphviz\u001b[0m\u001b[0;34m(\u001b[0m\u001b[0mtmodel\u001b[0m\u001b[0;34m,\u001b[0m \u001b[0mout_file\u001b[0m\u001b[0;34m=\u001b[0m\u001b[0mdot_data\u001b[0m\u001b[0;34m)\u001b[0m\u001b[0;34m\u001b[0m\u001b[0m\n\u001b[0;32m---> 66\u001b[0;31m     \u001b[0mgraph\u001b[0m \u001b[0;34m=\u001b[0m \u001b[0mpydot\u001b[0m\u001b[0;34m.\u001b[0m\u001b[0mgraph_from_dot_data\u001b[0m\u001b[0;34m(\u001b[0m\u001b[0mdot_data\u001b[0m\u001b[0;34m.\u001b[0m\u001b[0mgetvalue\u001b[0m\u001b[0;34m(\u001b[0m\u001b[0;34m)\u001b[0m\u001b[0;34m)\u001b[0m\u001b[0;34m\u001b[0m\u001b[0m\n\u001b[0m\u001b[1;32m     67\u001b[0m     \u001b[0;32mreturn\u001b[0m \u001b[0mImage\u001b[0m\u001b[0;34m(\u001b[0m\u001b[0mgraph\u001b[0m\u001b[0;34m.\u001b[0m\u001b[0mcreate_png\u001b[0m\u001b[0;34m(\u001b[0m\u001b[0;34m)\u001b[0m\u001b[0;34m)\u001b[0m\u001b[0;34m\u001b[0m\u001b[0m\n\u001b[1;32m     68\u001b[0m \u001b[0;34m\u001b[0m\u001b[0m\n",
        "\u001b[0;32m/usr/local/lib/python2.7/site-packages/pydot.pyc\u001b[0m in \u001b[0;36mgraph_from_dot_data\u001b[0;34m(data)\u001b[0m\n\u001b[1;32m    197\u001b[0m     \"\"\"\n\u001b[1;32m    198\u001b[0m \u001b[0;34m\u001b[0m\u001b[0m\n\u001b[0;32m--> 199\u001b[0;31m     \u001b[0;32mreturn\u001b[0m \u001b[0mdot_parser\u001b[0m\u001b[0;34m.\u001b[0m\u001b[0mparse_dot_data\u001b[0m\u001b[0;34m(\u001b[0m\u001b[0mdata\u001b[0m\u001b[0;34m)\u001b[0m\u001b[0;34m\u001b[0m\u001b[0m\n\u001b[0m\u001b[1;32m    200\u001b[0m \u001b[0;34m\u001b[0m\u001b[0m\n\u001b[1;32m    201\u001b[0m \u001b[0;34m\u001b[0m\u001b[0m\n",
        "\u001b[0;31mNameError\u001b[0m: global name 'dot_parser' is not defined"
       ]
      }
     ],
     "prompt_number": 27
    },
    {
     "cell_type": "code",
     "collapsed": false,
     "input": [
      "training.head()"
     ],
     "language": "python",
     "metadata": {},
     "outputs": [
      {
       "html": [
        "<div style=\"max-height:1000px;max-width:1500px;overflow:auto;\">\n",
        "<table border=\"1\" class=\"dataframe\">\n",
        "  <thead>\n",
        "    <tr style=\"text-align: right;\">\n",
        "      <th></th>\n",
        "      <th>YYYY/MM/DD</th>\n",
        "      <th>HH:mm:SS.ss</th>\n",
        "      <th>ET</th>\n",
        "      <th>MAG</th>\n",
        "      <th>M</th>\n",
        "      <th>LAT</th>\n",
        "      <th>LON</th>\n",
        "      <th>DEPTH</th>\n",
        "      <th>Q</th>\n",
        "      <th>EVID</th>\n",
        "      <th>NPH</th>\n",
        "      <th>NGRM</th>\n",
        "      <th>datetime</th>\n",
        "    </tr>\n",
        "  </thead>\n",
        "  <tbody>\n",
        "    <tr>\n",
        "      <th>2 </th>\n",
        "      <td> 1932/01/03</td>\n",
        "      <td> 17:58:10.01</td>\n",
        "      <td> le</td>\n",
        "      <td> 3.00</td>\n",
        "      <td> h</td>\n",
        "      <td> 32.000</td>\n",
        "      <td>-116.000</td>\n",
        "      <td> 6</td>\n",
        "      <td> D</td>\n",
        "      <td> 3358388</td>\n",
        "      <td>  7</td>\n",
        "      <td> 0</td>\n",
        "      <td>1932-01-03 17:58:10.010000</td>\n",
        "    </tr>\n",
        "    <tr>\n",
        "      <th>8 </th>\n",
        "      <td> 1932/01/07</td>\n",
        "      <td> 14:55:43.92</td>\n",
        "      <td> le</td>\n",
        "      <td> 3.00</td>\n",
        "      <td> h</td>\n",
        "      <td> 32.000</td>\n",
        "      <td>-116.000</td>\n",
        "      <td> 6</td>\n",
        "      <td> D</td>\n",
        "      <td> 3358408</td>\n",
        "      <td>  7</td>\n",
        "      <td> 0</td>\n",
        "      <td>1932-01-07 14:55:43.920000</td>\n",
        "    </tr>\n",
        "    <tr>\n",
        "      <th>10</th>\n",
        "      <td> 1932/01/10</td>\n",
        "      <td> 10:44:54.53</td>\n",
        "      <td> le</td>\n",
        "      <td> 3.05</td>\n",
        "      <td> h</td>\n",
        "      <td> 33.857</td>\n",
        "      <td>-117.537</td>\n",
        "      <td> 6</td>\n",
        "      <td> C</td>\n",
        "      <td> 3358412</td>\n",
        "      <td> 14</td>\n",
        "      <td> 0</td>\n",
        "      <td>1932-01-10 10:44:54.530000</td>\n",
        "    </tr>\n",
        "    <tr>\n",
        "      <th>12</th>\n",
        "      <td> 1932/01/10</td>\n",
        "      <td> 15:39:29.57</td>\n",
        "      <td> le</td>\n",
        "      <td> 3.00</td>\n",
        "      <td> h</td>\n",
        "      <td> 33.657</td>\n",
        "      <td>-116.846</td>\n",
        "      <td> 6</td>\n",
        "      <td> D</td>\n",
        "      <td> 3358414</td>\n",
        "      <td> 15</td>\n",
        "      <td> 0</td>\n",
        "      <td>1932-01-10 15:39:29.570000</td>\n",
        "    </tr>\n",
        "    <tr>\n",
        "      <th>14</th>\n",
        "      <td> 1932/01/14</td>\n",
        "      <td> 00:51:15.31</td>\n",
        "      <td> le</td>\n",
        "      <td> 3.00</td>\n",
        "      <td> h</td>\n",
        "      <td> 34.162</td>\n",
        "      <td>-119.878</td>\n",
        "      <td> 6</td>\n",
        "      <td> C</td>\n",
        "      <td> 3358416</td>\n",
        "      <td> 12</td>\n",
        "      <td> 0</td>\n",
        "      <td>1932-01-14 00:51:15.310000</td>\n",
        "    </tr>\n",
        "  </tbody>\n",
        "</table>\n",
        "</div>"
       ],
       "metadata": {},
       "output_type": "pyout",
       "prompt_number": 43,
       "text": [
        "    YYYY/MM/DD  HH:mm:SS.ss  ET   MAG  M     LAT      LON  DEPTH  Q     EVID  \\\n",
        "2   1932/01/03  17:58:10.01  le  3.00  h  32.000 -116.000      6  D  3358388   \n",
        "8   1932/01/07  14:55:43.92  le  3.00  h  32.000 -116.000      6  D  3358408   \n",
        "10  1932/01/10  10:44:54.53  le  3.05  h  33.857 -117.537      6  C  3358412   \n",
        "12  1932/01/10  15:39:29.57  le  3.00  h  33.657 -116.846      6  D  3358414   \n",
        "14  1932/01/14  00:51:15.31  le  3.00  h  34.162 -119.878      6  C  3358416   \n",
        "\n",
        "    NPH  NGRM                   datetime  \n",
        "2     7     0 1932-01-03 17:58:10.010000  \n",
        "8     7     0 1932-01-07 14:55:43.920000  \n",
        "10   14     0 1932-01-10 10:44:54.530000  \n",
        "12   15     0 1932-01-10 15:39:29.570000  \n",
        "14   12     0 1932-01-14 00:51:15.310000  "
       ]
      }
     ],
     "prompt_number": 43
    },
    {
     "cell_type": "code",
     "collapsed": false,
     "input": [],
     "language": "python",
     "metadata": {},
     "outputs": []
    }
   ],
   "metadata": {}
  }
 ]
}