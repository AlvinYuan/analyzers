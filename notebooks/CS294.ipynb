{
 "metadata": {
  "name": "",
  "signature": "sha256:7a3491f7b051813fad88726222e692f9d9f20ab75d906571288c9b4b5775ff04"
 },
 "nbformat": 3,
 "nbformat_minor": 0,
 "worksheets": [
  {
   "cells": [
    {
     "cell_type": "code",
     "collapsed": false,
     "input": [
      "from ggplot import *\n",
      "import datetime\n",
      "import time\n",
      "import urllib\n",
      "import numpy as np\n",
      "import pandas as pd\n",
      "from pandas import read_csv\n",
      "from pprint import pprint\n",
      "from datetime import timedelta"
     ],
     "language": "python",
     "metadata": {},
     "outputs": [],
     "prompt_number": 242
    },
    {
     "cell_type": "code",
     "collapsed": false,
     "input": [
      "\"\"\"\n",
      "Reads all year.catalog.csv files in github repo.\n",
      "Loads it all into one DataFrame.\n",
      "Does not remove null values, but data seems clean in this sense already.\n",
      "XXX: Note that the row index number appears multiple times. Use iloc and related instead of loc?\n",
      "\"\"\"\n",
      "def load_data(YEAR_MIN=1932, YEAR_MAX=2013):\n",
      "    FILE_DIR = \"../data_from_curators/\"\n",
      "    df = pd.DataFrame()\n",
      "    for yr in range(YEAR_MIN, YEAR_MAX+1):\n",
      "        filepath = FILE_DIR + \"%d.catalog.csv\" % yr\n",
      "        df = df.append(pd.read_csv(filepath))\n",
      "    # Convert time fields to a datetime object\n",
      "    df[\"datetime\"] = pd.to_datetime(df.apply(lambda row: row[\"YYYY/MM/DD\"] + \" \" + row[\"HH:mm:SS.ss\"], axis=1))\n",
      "    return df\n",
      "\n",
      "# May take ~ 1 minute\n",
      "full_data = load_data(2010, 2013)"
     ],
     "language": "python",
     "metadata": {},
     "outputs": [],
     "prompt_number": 243
    },
    {
     "cell_type": "code",
     "collapsed": false,
     "input": [
      "\"\"\"\n",
      "Some sanity checks\n",
      "\"\"\"\n",
      "print full_data.info()\n",
      "print full_data[:10]"
     ],
     "language": "python",
     "metadata": {},
     "outputs": [
      {
       "output_type": "stream",
       "stream": "stdout",
       "text": [
        "<class 'pandas.core.frame.DataFrame'>\n",
        "Int64Index: 88454 entries, 0 to 16090\n",
        "Data columns (total 13 columns):\n",
        "YYYY/MM/DD     88454 non-null object\n",
        "HH:mm:SS.ss    88454 non-null object\n",
        "ET             88454 non-null object\n",
        "MAG            88454 non-null float64\n",
        "M              88454 non-null object\n",
        "LAT            88454 non-null float64\n",
        "LON            88454 non-null float64\n",
        "DEPTH          88454 non-null float64\n",
        "Q              88454 non-null object\n",
        "EVID           88454 non-null float64\n",
        "NPH            88454 non-null float64\n",
        "NGRM           88454 non-null float64\n",
        "datetime       88454 non-null datetime64[ns]\n",
        "dtypes: datetime64[ns](1), float64(7), object(5)None\n",
        "   YYYY/MM/DD  HH:mm:SS.ss  ET   MAG  M     LAT      LON  DEPTH  Q      EVID  \\\n",
        "0  2010/01/01  00:16:54.48  le  1.10  l  36.032 -117.782    2.3  A  14566836   \n",
        "1  2010/01/01  00:30:16.72  le  0.75  l  33.475 -116.427    5.6  C  14566844   \n",
        "2  2010/01/01  00:34:29.70  le  0.46  l  36.004 -117.789    3.3  A  14566852   \n",
        "3  2010/01/01  01:16:54.15  le  0.50  h  33.203 -115.573    0.1  C  14566860   \n",
        "4  2010/01/01  02:27:45.96  le  2.18  l  32.471 -115.214    6.0  C  14566868   \n",
        "5  2010/01/01  02:33:42.82  le  3.24  l  32.454 -115.203    6.0  C  14566876   \n",
        "6  2010/01/01  02:55:04.37  le  2.79  l  35.985 -117.298    1.8  A  14566884   \n",
        "7  2010/01/01  03:01:18.47  le  1.44  l  34.146 -117.628   12.2  A  14566900   \n",
        "8  2010/01/01  03:25:30.18  le  2.86  l  36.032 -117.783    1.9  A  14566908   \n",
        "9  2010/01/01  03:39:21.99  le  0.16  l  36.029 -117.778    3.0  A  14566916   \n",
        "\n",
        "   NPH  NGRM                   datetime  \n",
        "0   26     0 2010-01-01 00:16:54.480000  \n",
        "1   23     0 2010-01-01 00:30:16.720000  \n",
        "2   12     0 2010-01-01 00:34:29.700000  \n",
        "3   13     0 2010-01-01 01:16:54.150000  \n",
        "4   24     0 2010-01-01 02:27:45.960000  \n",
        "5   38     0 2010-01-01 02:33:42.820000  \n",
        "6   59     0 2010-01-01 02:55:04.370000  \n",
        "7   29     0 2010-01-01 03:01:18.470000  \n",
        "8   57     0 2010-01-01 03:25:30.180000  \n",
        "9   12     0 2010-01-01 03:39:21.990000  \n"
       ]
      }
     ],
     "prompt_number": 244
    },
    {
     "cell_type": "code",
     "collapsed": false,
     "input": [
      "\"\"\"\n",
      "Split data into training, validation, and test sets.\n",
      "Splits based on order: training is earliest data, validation is middle, test is latest.\n",
      "Cannot split randomly because we believe there is time clustering.\n",
      "This may introduce confounds with quality of data though (is earlier data more reliable?).\n",
      "For now, assume data quality is constant across time.\n",
      "\"\"\"\n",
      "def split_data(data, training_size, validation_size, test_size):\n",
      "    assert(training_size + validation_size + test_size == 1)\n",
      "    validation_start = int(len(data) * training_size)\n",
      "    test_start = int(len(data) * (training_size + validation_size))\n",
      "    return (data[:validation_start], data[validation_start:test_start], data[test_start:])\n",
      "\n",
      "training, validation, test = split_data(full_data, .6, .2, .2)\n",
      "assert(len(training) + len(validation) + len(test) == len(full_data))"
     ],
     "language": "python",
     "metadata": {},
     "outputs": [],
     "prompt_number": 245
    },
    {
     "cell_type": "code",
     "collapsed": false,
     "input": [
      "\"\"\"\n",
      "Convert data to matrix\n",
      "\"\"\"\n",
      "event_times = np.matrix(training[\"datetime\"].values).getT()\n",
      "event_magnitudes = np.matrix(training[\"MAG\"].values).getT()\n",
      "num_events = event_times.shape[0]\n",
      "print num_events"
     ],
     "language": "python",
     "metadata": {},
     "outputs": [
      {
       "output_type": "stream",
       "stream": "stdout",
       "text": [
        "53072\n"
       ]
      }
     ],
     "prompt_number": 246
    },
    {
     "cell_type": "code",
     "collapsed": false,
     "input": [
      "\"\"\"\n",
      "Uses basic MDA model (tau*u^mag) to predict earthquakes.\n",
      "Returns a Nx2 matrix, where each row is a (start, end) datetime pair \n",
      "    representing the alarm for a particular event (N events total).\n",
      "\"\"\"\n",
      "def mda(event_times, event_magnitudes, tau=700, u=4):\n",
      "    num_events = event_times.shape[0]\n",
      "    start_offset = np.timedelta64(1, \"ms\")\n",
      "    event_times2 = np.repeat(event_times, 2, axis=1)\n",
      "    start_offsets = start_offset * np.ones([num_events, 1])\n",
      "\n",
      "    # MDA\n",
      "    stop_offsets = np.timedelta64(1, \"ms\") * np.floor( tau * np.power(u, event_magnitudes) )\n",
      "\n",
      "    offsets = np.concatenate((np.mat(start_offsets), np.mat(stop_offsets)), axis=1)\n",
      "    alarms = event_times2 + offsets\n",
      "    \n",
      "    return alarms"
     ],
     "language": "python",
     "metadata": {},
     "outputs": [],
     "prompt_number": 247
    },
    {
     "cell_type": "code",
     "collapsed": false,
     "input": [
      "\"\"\"\n",
      "Uses basic automatic alarm to predict earthquakes.\n",
      "Returns a Nx2 matrix, where each row is a (start, end) datetime pair \n",
      "    representing the alarm for a particular event (N events total).\n",
      "\"\"\"\n",
      "def automatic_alarm(event_times, alarm_length=1000):\n",
      "    num_events = event_times.shape[0]\n",
      "    start_offset = np.timedelta64(1, \"ms\")\n",
      "    event_times2 = np.repeat(event_times, 2, axis=1)\n",
      "    start_offsets = start_offset * np.ones([num_events, 1])\n",
      "\n",
      "    # Automatic alarm\n",
      "    stop_offsets = np.timedelta64(alarm_length, \"ms\") * np.ones([num_events, 1])\n",
      "\n",
      "    offsets = np.concatenate((np.mat(start_offsets), np.mat(stop_offsets)), axis=1)\n",
      "    alarms = event_times2 + offsets\n",
      "\n",
      "    return alarms"
     ],
     "language": "python",
     "metadata": {},
     "outputs": [],
     "prompt_number": 248
    },
    {
     "cell_type": "code",
     "collapsed": false,
     "input": [
      "%%time\n",
      "\"\"\"\n",
      "Alarm models do a simple mapping of event -> alarm start and end times.\n",
      "This function processes the alarms output produced by alarm models.\n",
      "The output of this feeds easily into relevant evaluation functions (alarm_fraction, error_ratio)\n",
      "\"\"\"\n",
      "def process_alarms(event_times, alarms):\n",
      "    # Clean up alarms by capping values to last event time\n",
      "    alarms[:,1] = np.minimum(event_times[-1,0], alarms[:,1])\n",
      "    alarms[-1,0] = event_times[-1,0]\n",
      "\n",
      "    previous_alarm_ends = np.insert(alarms[:,1],0,0).getT() # offset alarm ends by 1\n",
      "    latest_previous_alarm_end = np.maximum.accumulate(previous_alarm_ends)[:-1]\n",
      "    predicted = np.greater(latest_previous_alarm_end, event_times)\n",
      "    not_enclosed = np.greater(alarms[:,1], latest_previous_alarm_end)\n",
      "    time_contributions = np.add(\n",
      "        np.multiply((1 - predicted),(alarms[:,1] - alarms[:,0])), # count full alarm length for unpredicted events\n",
      "        np.multiply(np.multiply(predicted, not_enclosed), (alarms[:,1] - latest_previous_alarm_end)) # count additional alarm time for predicted but unenclosed events\n",
      "        # do not count alarm time of predicted and enclosed events\n",
      "        )\n",
      "    return predicted, time_contributions\n",
      "    \n",
      "alarms = mda(event_times, event_magnitudes)\n",
      "predicted, time_contributions = process_alarms(event_times, alarms)"
     ],
     "language": "python",
     "metadata": {},
     "outputs": [
      {
       "output_type": "stream",
       "stream": "stdout",
       "text": [
        "CPU times: user 8.64 ms, sys: 22 \u00b5s, total: 8.66 ms\n",
        "Wall time: 16.6 ms\n"
       ]
      }
     ],
     "prompt_number": 249
    },
    {
     "cell_type": "code",
     "collapsed": false,
     "input": [
      "%%time \n",
      "\"\"\"\n",
      "Returns the fraction of time the alarm is on.\n",
      "Argument should be time_contributions output from process_alarms\n",
      "\"\"\"\n",
      "def alarm_fraction(event_times, time_contributions):\n",
      "    time_frame = event_times[-1,0] - event_times[0, 0]\n",
      "    alarm_time = np.sum(time_contributions)\n",
      "    return alarm_time / time_frame\n",
      "\n",
      "print alarm_fraction(event_times, time_contributions)"
     ],
     "language": "python",
     "metadata": {},
     "outputs": [
      {
       "output_type": "stream",
       "stream": "stdout",
       "text": [
        "0.00891826556095\n",
        "CPU times: user 1.28 ms, sys: 28 \u00b5s, total: 1.31 ms\n",
        "Wall time: 1.93 ms\n"
       ]
      }
     ],
     "prompt_number": 250
    },
    {
     "cell_type": "code",
     "collapsed": false,
     "input": [
      "%%time\n",
      "\"\"\"\n",
      "Returns the ratio of events missed by the alarm model.\n",
      "Argument should be predicted output from process_alarms\n",
      "\"\"\"\n",
      "def error_ratio(predicted):\n",
      "    return 1 - np.sum(predicted) / float(predicted.shape[0])\n",
      "\n",
      "print error_ratio(predicted)"
     ],
     "language": "python",
     "metadata": {},
     "outputs": [
      {
       "output_type": "stream",
       "stream": "stdout",
       "text": [
        "0.958528037383\n",
        "CPU times: user 217 \u00b5s, sys: 4 \u00b5s, total: 221 \u00b5s\n",
        "Wall time: 227 \u00b5s\n"
       ]
      }
     ],
     "prompt_number": 251
    },
    {
     "cell_type": "code",
     "collapsed": false,
     "input": [
      "%%time\n",
      "\"\"\"\n",
      "Compute alarm_fractions and error_ratios for mda by varying tau\n",
      "\"\"\"\n",
      "mda_taus = [1000 * 2**i for i in range(14)]\n",
      "# taus = xrange(1000, 1048000, 10000)\n",
      "mda_alarm_fractions = []\n",
      "mda_error_ratios = []\n",
      "\n",
      "for tau in mda_taus:\n",
      "    mda_alarms = mda(event_times, event_magnitudes, tau)\n",
      "    predicted, time_contributions = process_alarms(event_times, mda_alarms)\n",
      "    mda_alarm_fractions.append(alarm_fraction(event_times, time_contributions))\n",
      "    mda_error_ratios.append(error_ratio(predicted))"
     ],
     "language": "python",
     "metadata": {},
     "outputs": [
      {
       "output_type": "stream",
       "stream": "stdout",
       "text": [
        "CPU times: user 126 ms, sys: 0 ns, total: 126 ms\n",
        "Wall time: 216 ms\n"
       ]
      }
     ],
     "prompt_number": 252
    },
    {
     "cell_type": "code",
     "collapsed": false,
     "input": [
      "%%time\n",
      "\"\"\"\n",
      "Compute alarm_fractions and error_ratios for automatic alarms by varying alarm_length\n",
      "\"\"\"\n",
      "aa_alarm_lengths = [1000* 2**i for i in range(14)]\n",
      "aa_alarm_fractions = []\n",
      "aa_error_ratios = []\n",
      "\n",
      "for alarm_length in aa_alarm_lengths:\n",
      "    aa_alarms = automatic_alarm(event_times, alarm_length)\n",
      "    predicted, time_contributions = process_alarms(event_times, aa_alarms)\n",
      "    aa_alarm_fractions.append(alarm_fraction(event_times, time_contributions))\n",
      "    aa_error_ratios.append(error_ratio(predicted))"
     ],
     "language": "python",
     "metadata": {},
     "outputs": [
      {
       "output_type": "stream",
       "stream": "stdout",
       "text": [
        "CPU times: user 72.4 ms, sys: 0 ns, total: 72.4 ms\n",
        "Wall time: 163 ms\n"
       ]
      }
     ],
     "prompt_number": 253
    },
    {
     "cell_type": "code",
     "collapsed": false,
     "input": [
      "\"\"\"\n",
      "Plot the commonly used chart\n",
      "Based off HW1 precision vs. recall plot\n",
      "\"\"\"\n",
      "import pylab\n",
      "%matplotlib inline\n",
      "pylab.title(\"Earthquake Model Performance Curves\")\n",
      "pylab.xlabel(\"Alarm Fraction\")\n",
      "pylab.ylabel(\"Error Ratio\")\n",
      "pylab.plot(aa_alarm_fractions, aa_error_ratios,'r--', label=\"AA\")\n",
      "pylab.plot(mda_alarm_fractions, mda_error_ratios, 'b--', label=\"MDA\")\n",
      "pylab.legend()\n",
      "pylab.show()"
     ],
     "language": "python",
     "metadata": {},
     "outputs": [
      {
       "metadata": {},
       "output_type": "display_data",
       "png": "[encoded data removed]",
       "text": [
        "<matplotlib.figure.Figure at 0x7fdb75a67850>"
       ]
      }
     ],
     "prompt_number": 254
    },
    {
     "cell_type": "code",
     "collapsed": false,
     "input": [
      "\"\"\"\n",
      "Sanity check\n",
      "\"\"\"\n",
      "print pd.DataFrame({\"taus\": mda_taus, \"alarm_fractions\": mda_alarm_fractions, \"error_ratios\": mda_error_ratios})\n",
      "print pd.DataFrame({\"alarm_lengths\": aa_alarm_lengths, \"alarm_fractions\": aa_alarm_fractions, \"error_ratios\": aa_error_ratios})"
     ],
     "language": "python",
     "metadata": {},
     "outputs": [
      {
       "output_type": "stream",
       "stream": "stdout",
       "text": [
        "    alarm_fractions  error_ratios     taus\n",
        "0          0.012383      0.940703     1000\n",
        "1          0.023286      0.888491     2000\n",
        "2          0.042575      0.811162     4000\n",
        "3          0.076234      0.721755     8000\n",
        "4          0.133465      0.621608    16000\n",
        "5          0.226792      0.506425    32000\n",
        "6          0.365732      0.375358    64000\n",
        "7          0.551042      0.240673   128000\n",
        "8          0.756821      0.118612   256000\n",
        "9          0.918895      0.036573   512000\n",
        "10         0.990657      0.004277  1024000\n",
        "11         0.999731      0.000132  2048000\n",
        "12         1.000000      0.000038  4096000\n",
        "13         1.000000      0.000038  8192000\n",
        "    alarm_fractions  alarm_lengths  error_ratios\n",
        "0          0.000920           1000      0.995666\n",
        "1          0.001838           2000      0.992708\n",
        "2          0.003665           4000      0.985981\n",
        "3          0.007276           8000      0.969174\n",
        "4          0.014315          16000      0.936671\n",
        "5          0.027708          32000      0.879240\n",
        "6          0.052479          64000      0.803851\n",
        "7          0.097028         128000      0.711241\n",
        "8          0.173717         256000      0.595700\n",
        "9          0.296915         512000      0.457680\n",
        "10         0.473065        1024000      0.305321\n",
        "11         0.684043        2048000      0.161818\n",
        "12         0.875858        4096000      0.058863\n",
        "13         0.976472        8192000      0.009685\n"
       ]
      }
     ],
     "prompt_number": 255
    },
    {
     "cell_type": "code",
     "collapsed": false,
     "input": [
      "\"\"\"\n",
      "TODO:\n",
      "For AUC, do we need regular x-axis step sizes?\n",
      "Figure out how to calculate AUC. lab7 has an example in BIDMach. roc function?\n",
      "explore coarse tuning for u. See if that improves curve. Currently the curve looks a lot worse than papers? Read papers\n",
      "Figure out how ETAS fits into this. Can it be plotted on the same axes?\n",
      "look into existing training algorithms in sk-learn/bidmach/spark (stochastic gradient descent?)\n",
      "\"\"\""
     ],
     "language": "python",
     "metadata": {},
     "outputs": [
      {
       "metadata": {},
       "output_type": "pyout",
       "prompt_number": 258,
       "text": [
        "'\\nTODO:\\nFor AUC, do we need regular x-axis step sizes?\\nFigure out how to calculate AUC. lab7 has an example in BIDMach. roc function?\\nexplore coarse tuning for u. See if that improves curve. Currently the curve looks a lot worse than papers? Read papers\\nFigure out how ETAS fits into this. Can it be plotted on the same axes?\\nlook into existing training algorithms in sk-learn/bidmach/spark (stochastic gradient descent?)\\n'"
       ]
      }
     ],
     "prompt_number": 258
    },
    {
     "cell_type": "code",
     "collapsed": false,
     "input": [
      "\"\"\"\n",
      "Training MDA means tuning u using training data to minimize training AUC, where AUC is computed by varying tau?\n",
      "Evaluating MDA means computing AUC for validation/test data?\n",
      "\"\"\""
     ],
     "language": "python",
     "metadata": {},
     "outputs": [
      {
       "metadata": {},
       "output_type": "pyout",
       "prompt_number": 257,
       "text": [
        "'\\nTraining MDA means tuning u using training data to minimize training AUC, where AUC is computed by varying tau?\\nEvaluating MDA means computing AUC for validation/test data?\\n'"
       ]
      }
     ],
     "prompt_number": 257
    },
    {
     "cell_type": "code",
     "collapsed": false,
     "input": [],
     "language": "python",
     "metadata": {},
     "outputs": [],
     "prompt_number": 257
    }
   ],
   "metadata": {}
  }
 ]
}