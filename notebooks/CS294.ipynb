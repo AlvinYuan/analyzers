{
 "metadata": {
  "name": "",
  "signature": "sha256:1d961585ca2ffe3eaa69e0b2abfcf51d4cee7509252c1d2a80b36ea7962f03f6"
 },
 "nbformat": 3,
 "nbformat_minor": 0,
 "worksheets": [
  {
   "cells": [
    {
     "cell_type": "code",
     "collapsed": false,
     "input": [
      "from ggplot import *\n",
      "import datetime\n",
      "import time\n",
      "import urllib\n",
      "import numpy as np\n",
      "import pandas as pd\n",
      "from pandas import read_csv\n",
      "from pprint import pprint\n",
      "from datetime import timedelta"
     ],
     "language": "python",
     "metadata": {},
     "outputs": [],
     "prompt_number": 173
    },
    {
     "cell_type": "code",
     "collapsed": false,
     "input": [
      "\"\"\"\n",
      "Reads all year.catalog.csv files in github repo.\n",
      "Loads it all into one DataFrame.\n",
      "Does not remove null values, but data seems clean in this sense already.\n",
      "XXX: Note that the row index number appears multiple times. Use iloc and related instead of loc?\n",
      "\"\"\"\n",
      "def load_data(YEAR_MIN=1932, YEAR_MAX=2013):\n",
      "    FILE_DIR = \"../data_from_curators/\"\n",
      "    df = pd.DataFrame()\n",
      "    for yr in range(YEAR_MIN, YEAR_MAX+1):\n",
      "        filepath = FILE_DIR + \"%d.catalog.csv\" % yr\n",
      "        df = df.append(pd.read_csv(filepath))\n",
      "    # Convert time fields to a datetime object\n",
      "    df[\"datetime\"] = pd.to_datetime(df.apply(lambda row: row[\"YYYY/MM/DD\"] + \" \" + row[\"HH:mm:SS.ss\"], axis=1))\n",
      "    return df\n",
      "\n",
      "# May take ~ 1 minute\n",
      "full_data = load_data(2013, 2013)"
     ],
     "language": "python",
     "metadata": {},
     "outputs": [],
     "prompt_number": 174
    },
    {
     "cell_type": "code",
     "collapsed": false,
     "input": [
      "\"\"\"\n",
      "Some sanity checks\n",
      "\"\"\"\n",
      "print full_data.info()\n",
      "print full_data[:10]"
     ],
     "language": "python",
     "metadata": {},
     "outputs": [
      {
       "output_type": "stream",
       "stream": "stdout",
       "text": [
        "<class 'pandas.core.frame.DataFrame'>\n",
        "Int64Index: 16091 entries, 0 to 16090\n",
        "Data columns (total 13 columns):\n",
        "YYYY/MM/DD     16091 non-null object\n",
        "HH:mm:SS.ss    16091 non-null object\n",
        "ET             16091 non-null object\n",
        "MAG            16091 non-null float64\n",
        "M              16091 non-null object\n",
        "LAT            16091 non-null float64\n",
        "LON            16091 non-null float64\n",
        "DEPTH          16091 non-null float64\n",
        "Q              16091 non-null object\n",
        "EVID           16091 non-null float64\n",
        "NPH            16091 non-null float64\n",
        "NGRM           16091 non-null float64\n",
        "datetime       16091 non-null datetime64[ns]\n",
        "dtypes: datetime64[ns](1), float64(7), object(5)None\n",
        "   YYYY/MM/DD  HH:mm:SS.ss  ET   MAG  M     LAT      LON  DEPTH  Q      EVID  \\\n",
        "0  2013/01/01  00:55:30.86  le  0.75  l  33.973 -116.807   13.9  A  15269305   \n",
        "1  2013/01/01  01:22:48.22  le  1.61  l  34.909 -119.596   10.0  A  15269313   \n",
        "2  2013/01/01  01:30:15.24  le  0.28  l  35.946 -117.662    5.0  A  15269321   \n",
        "3  2013/01/01  01:50:54.74  le  0.64  l  33.704 -116.751   19.5  A  15269329   \n",
        "4  2013/01/01  02:00:11.27  le  0.83  l  33.276 -116.780   13.0  A  15269337   \n",
        "5  2013/01/01  02:47:58.48  le  1.87  l  33.782 -118.358    8.2  A  15269353   \n",
        "6  2013/01/01  03:01:55.10  le  1.13  l  34.177 -117.364   12.8  A  15269361   \n",
        "7  2013/01/01  03:29:39.68  le  1.66  l  36.155 -118.064    0.5  A  15269369   \n",
        "8  2013/01/01  06:10:05.13  le  1.01  l  36.151 -118.073    5.6  C  15269377   \n",
        "9  2013/01/01  06:36:26.07  le  0.67  l  33.658 -116.733   15.7  A  15269385   \n",
        "\n",
        "   NPH  NGRM                   datetime  \n",
        "0   32     0 2013-01-01 00:55:30.860000  \n",
        "1   27     0 2013-01-01 01:22:48.220000  \n",
        "2    9     0 2013-01-01 01:30:15.240000  \n",
        "3   18     0 2013-01-01 01:50:54.740000  \n",
        "4   36     0 2013-01-01 02:00:11.270000  \n",
        "5   59     0 2013-01-01 02:47:58.480000  \n",
        "6   54     0 2013-01-01 03:01:55.100000  \n",
        "7   38     0 2013-01-01 03:29:39.680000  \n",
        "8   14     0 2013-01-01 06:10:05.130000  \n",
        "9   38     0 2013-01-01 06:36:26.070000  \n"
       ]
      }
     ],
     "prompt_number": 175
    },
    {
     "cell_type": "code",
     "collapsed": false,
     "input": [
      "\"\"\"\n",
      "Split data into training, validation, and test sets.\n",
      "Splits based on order: training is earliest data, validation is middle, test is latest.\n",
      "Cannot split randomly because we believe there is time clustering.\n",
      "This may introduce confounds with quality of data though (is earlier data more reliable?).\n",
      "For now, assume data quality is constant across time.\n",
      "\"\"\"\n",
      "def split_data(data, training_size, validation_size, test_size):\n",
      "    assert(training_size + validation_size + test_size == 1)\n",
      "    validation_start = int(len(data) * training_size)\n",
      "    test_start = int(len(data) * (training_size + validation_size))\n",
      "    return (data[:validation_start], data[validation_start:test_start], data[test_start:])\n",
      "\n",
      "training, validation, test = split_data(full_data, .6, .2, .2)\n",
      "assert(len(training) + len(validation) + len(test) == len(full_data))"
     ],
     "language": "python",
     "metadata": {},
     "outputs": [],
     "prompt_number": 176
    },
    {
     "cell_type": "code",
     "collapsed": false,
     "input": [
      "\"\"\"\n",
      "Convert data to matrix\n",
      "\"\"\"\n",
      "event_times = np.matrix(training[\"datetime\"].values).getT()\n",
      "event_magnitudes = np.matrix(training[\"MAG\"].values).getT()\n",
      "num_events = event_times.shape[0]\n",
      "print num_events"
     ],
     "language": "python",
     "metadata": {},
     "outputs": [
      {
       "output_type": "stream",
       "stream": "stdout",
       "text": [
        "9654\n"
       ]
      }
     ],
     "prompt_number": 177
    },
    {
     "cell_type": "code",
     "collapsed": false,
     "input": [
      "def mda(event_times, event_magnitudes, tau=700, u=4):\n",
      "    \"\"\"\n",
      "    Uses basic MDA model (tau*u^mag) to predict earthquakes.\n",
      "    Returns matrix of (start, end) representing date range when alarm should be on.\n",
      "    \"\"\"\n",
      "    num_events = event_times.shape[0]\n",
      "    start_offset = np.timedelta64(1, \"ms\")\n",
      "    event_times2 = np.repeat(event_times, 2, axis=1)\n",
      "    start_offsets = start_offset * np.ones([num_events, 1])\n",
      "\n",
      "    # MDA\n",
      "    stop_offsets = np.timedelta64(1, \"ms\") * np.floor( tau * np.power(u, event_magnitudes) )\n",
      "\n",
      "    offsets = np.concatenate((np.mat(start_offsets), np.mat(stop_offsets)), axis=1)\n",
      "    alarms = event_times2 + offsets\n",
      "    \n",
      "    \"\"\"\n",
      "    Clean alarm data so that alarms do not overlap.\n",
      "    Clean alarm data so that whether an event was predicted can be checked by the alarm range in the same row\n",
      "    TODO: can this be done as a matrix operation\n",
      "    \"\"\"\n",
      "    cutoff_offset = - 2 * start_offset\n",
      "    for i in range(1, alarms.shape[0]):\n",
      "        previous_alarm_end = alarms[i-1, 1]\n",
      "        if alarms[i, 0] < previous_alarm_end:\n",
      "            # latest alarm after this event\n",
      "            # This event is predicted\n",
      "            # There is an overlap in alarm ranges\n",
      "            cutoff = alarms[i, 0] + cutoff_offset # result should be before event i timestamp\n",
      "            # Start alarm for event i before event i to indicate predicted\n",
      "            alarms[i, 0] = cutoff\n",
      "            # Update alarms to not overlap\n",
      "            alarms[i-1, 1] = cutoff\n",
      "            # Update latest alarm\n",
      "            if alarms[i, 1] < previous_alarm_end:\n",
      "                alarms[i, 1] = previous_alarm_end\n",
      "        # else:\n",
      "        # latest alarm ends before this event\n",
      "        # No overlap, no update\n",
      "\n",
      "    # cutoff final alarm so it does not contribute to alarm_fraction\n",
      "    alarms[-1, 1] = alarms[-1, 0] + cutoff_offset\n",
      "    return alarms"
     ],
     "language": "python",
     "metadata": {},
     "outputs": [],
     "prompt_number": 178
    },
    {
     "cell_type": "code",
     "collapsed": false,
     "input": [
      "def automatic_alarm(event_times, alarm_length=1000):\n",
      "    \"\"\"\n",
      "    Uses basic automatic alarm to predict earthquakes.\n",
      "    Returns matrix of (start, end) representing date range when alarm should be on.\n",
      "    \"\"\"\n",
      "    num_events = event_times.shape[0]\n",
      "    start_offset = np.timedelta64(1, \"ms\")\n",
      "    event_times2 = np.repeat(event_times, 2, axis=1)\n",
      "    start_offsets = start_offset * np.ones([num_events, 1])\n",
      "\n",
      "    # Automatic alarm\n",
      "    stop_offsets = np.timedelta64(alarm_length, \"ms\") * np.ones([num_events, 1])\n",
      "\n",
      "    offsets = np.concatenate((np.mat(start_offsets), np.mat(stop_offsets)), axis=1)\n",
      "    alarms = event_times2 + offsets\n",
      "\n",
      "    \"\"\"\n",
      "    Copied from mda\n",
      "\n",
      "    Clean alarm data so that alarms do not overlap.\n",
      "    Clean alarm data so that whether an event was predicted can be checked by the alarm range in the same row\n",
      "    TODO: can this be done as a matrix operation\n",
      "    \"\"\"\n",
      "    cutoff_offset = - 2 * start_offset\n",
      "    for i in range(1, alarms.shape[0]):\n",
      "        previous_alarm_end = alarms[i-1, 1]\n",
      "        if alarms[i, 0] < previous_alarm_end:\n",
      "            # latest alarm after this event\n",
      "            # This event is predicted\n",
      "            # There is an overlap in alarm ranges\n",
      "            cutoff = alarms[i, 0] + cutoff_offset # result should be before event i timestamp\n",
      "            # Start alarm for event i before event i to indicate predicted\n",
      "            alarms[i, 0] = cutoff\n",
      "            # Update alarms to not overlap\n",
      "            alarms[i-1, 1] = cutoff\n",
      "            # Update latest alarm\n",
      "            if alarms[i, 1] < previous_alarm_end:\n",
      "                alarms[i, 1] = previous_alarm_end\n",
      "        # else:\n",
      "        # latest alarm ends before this event\n",
      "        # No overlap, no update\n",
      "\n",
      "    # cutoff final alarm so it does not contribute to alarm_fraction\n",
      "    alarms[-1, 1] = alarms[-1, 0] + cutoff_offset\n",
      "    return alarms"
     ],
     "language": "python",
     "metadata": {},
     "outputs": [],
     "prompt_number": 179
    },
    {
     "cell_type": "code",
     "collapsed": false,
     "input": [
      "%%time\n",
      "alarms = mda(event_times, event_magnitudes)"
     ],
     "language": "python",
     "metadata": {},
     "outputs": [
      {
       "output_type": "stream",
       "stream": "stdout",
       "text": [
        "CPU times: user 72.9 ms, sys: 0 ns, total: 72.9 ms\n",
        "Wall time: 248 ms\n"
       ]
      }
     ],
     "prompt_number": 180
    },
    {
     "cell_type": "code",
     "collapsed": false,
     "input": [
      "%%time \n",
      "\"\"\"\n",
      "Returns the fraction of time the alarm is on.\n",
      "Assumes arguments are sorted by time and alarms do not overlap.\n",
      "\"\"\"\n",
      "def alarm_fraction(event_times, alarms):\n",
      "    time_frame = event_times[-1,0] - event_times[0, 0]\n",
      "    alarm_time = np.sum(alarms[:,1] - alarms[:,0])\n",
      "#     print time_frame / np.timedelta64(1,\"D\"), alarm_time / np.timedelta64(1,\"D\")\n",
      "    return alarm_time / time_frame\n",
      "\n",
      "print alarm_fraction(event_times, alarms)\n",
      "\n",
      "# print event_times[0,0]\n",
      "# print event_times[-1,0]\n",
      "# print (validation[\"datetime\"].values[-1] - validation[\"datetime\"].values[0])\n",
      "# print (validation.iloc[-1][\"datetime\"] - validation.iloc[0][\"datetime\"]).total_seconds()"
     ],
     "language": "python",
     "metadata": {},
     "outputs": [
      {
       "output_type": "stream",
       "stream": "stdout",
       "text": [
        "0.00290736288229\n",
        "CPU times: user 256 \u00b5s, sys: 2 \u00b5s, total: 258 \u00b5s\n",
        "Wall time: 262 \u00b5s\n"
       ]
      }
     ],
     "prompt_number": 181
    },
    {
     "cell_type": "code",
     "collapsed": false,
     "input": [
      "%%time\n",
      "\"\"\"\n",
      "Returns the number of correct predictions.\n",
      "Assumes alarm for event i starts before event i if a previous alarm predicted event i.\n",
      "\"\"\"\n",
      "def prediction_positives(event_times, alarms):\n",
      "    num_events = event_times.shape[1]\n",
      "    deltas = event_times > alarms[:,0]\n",
      "    return np.sum(deltas)\n",
      "\n",
      "def error_ratio(event_times, alarms):\n",
      "    num_events = event_times.shape[0]\n",
      "    return (num_events - prediction_positives(event_times, alarms)) / float(num_events)\n",
      "print prediction_positives(event_times, alarms), error_ratio(event_times, alarms)"
     ],
     "language": "python",
     "metadata": {},
     "outputs": [
      {
       "output_type": "stream",
       "stream": "stdout",
       "text": [
        "98 0.98984876735\n",
        "CPU times: user 323 \u00b5s, sys: 0 ns, total: 323 \u00b5s\n",
        "Wall time: 324 \u00b5s\n"
       ]
      }
     ],
     "prompt_number": 182
    },
    {
     "cell_type": "code",
     "collapsed": false,
     "input": [
      "%%time\n",
      "\"\"\"\n",
      "Compute alarm_fractions and error_ratios for mda by varying tau\n",
      "\"\"\"\n",
      "mda_taus = [1000 * 2**i for i in range(14)]\n",
      "# taus = xrange(1000, 1048000, 10000)\n",
      "mda_alarm_fractions = []\n",
      "mda_error_ratios = []\n",
      "\n",
      "for tau in mda_taus:\n",
      "    mda_alarms = mda(event_times, event_magnitudes, tau)\n",
      "    mda_alarm_fractions.append(alarm_fraction(event_times, mda_alarms))\n",
      "    mda_error_ratios.append(error_ratio(event_times, mda_alarms))"
     ],
     "language": "python",
     "metadata": {},
     "outputs": [
      {
       "output_type": "stream",
       "stream": "stdout",
       "text": [
        "CPU times: user 1.86 s, sys: 5.9 ms, total: 1.87 s\n",
        "Wall time: 3.53 s\n"
       ]
      }
     ],
     "prompt_number": 183
    },
    {
     "cell_type": "code",
     "collapsed": false,
     "input": [
      "%%time\n",
      "\"\"\"\n",
      "Compute alarm_fractions and error_ratios for automatic alarms by varying alarm_length\n",
      "\"\"\"\n",
      "aa_alarm_lengths = [1000* 2**i for i in range(14)]\n",
      "aa_alarm_fractions = []\n",
      "aa_error_ratios = []\n",
      "\n",
      "for alarm_length in aa_alarm_lengths:\n",
      "    aa_alarms = automatic_alarm(event_times, alarm_length)\n",
      "    aa_alarm_fractions.append(alarm_fraction(event_times, aa_alarms))\n",
      "    aa_error_ratios.append(error_ratio(event_times, aa_alarms))"
     ],
     "language": "python",
     "metadata": {},
     "outputs": [
      {
       "output_type": "stream",
       "stream": "stdout",
       "text": [
        "CPU times: user 1.47 s, sys: 133 \u00b5s, total: 1.47 s\n",
        "Wall time: 1.93 s\n"
       ]
      }
     ],
     "prompt_number": 184
    },
    {
     "cell_type": "code",
     "collapsed": false,
     "input": [
      "\"\"\"\n",
      "Plot the commonly used chart\n",
      "Based off HW1 precision vs. recall plot\n",
      "\"\"\"\n",
      "import pylab\n",
      "%matplotlib inline\n",
      "pylab.title(\"Earthquake Model Performance Curves\")\n",
      "pylab.xlabel(\"Alarm Fraction\")\n",
      "pylab.ylabel(\"Error Ratio\")\n",
      "pylab.plot(aa_alarm_fractions, aa_error_ratios,'r--', label=\"AA\")\n",
      "pylab.plot(mda_alarm_fractions, mda_error_ratios, 'b--', label=\"MDA\")\n",
      "pylab.legend()\n",
      "pylab.show()"
     ],
     "language": "python",
     "metadata": {},
     "outputs": [
      {
       "metadata": {},
       "output_type": "display_data",
       "png": "[encoded data removed]",
       "text": [
        "<matplotlib.figure.Figure at 0x7fb07d1e7b10>"
       ]
      }
     ],
     "prompt_number": 185
    },
    {
     "cell_type": "code",
     "collapsed": false,
     "input": [
      "\"\"\"\n",
      "Sanity check\n",
      "\"\"\"\n",
      "print pd.DataFrame({\"taus\": mda_taus, \"alarm_fractions\": mda_alarm_fractions, \"error_ratios\": mda_error_ratios})\n",
      "print pd.DataFrame({\"alarm_lengths\": aa_alarm_lengths, \"alarm_fractions\": aa_alarm_fractions, \"error_ratios\": aa_error_ratios})"
     ],
     "language": "python",
     "metadata": {},
     "outputs": [
      {
       "output_type": "stream",
       "stream": "stdout",
       "text": [
        "    alarm_fractions  error_ratios     taus\n",
        "0          0.004139      0.986120     1000\n",
        "1          0.008179      0.972447     2000\n",
        "2          0.016086      0.946551     4000\n",
        "3          0.031394      0.908121     8000\n",
        "4          0.060768      0.853325    16000\n",
        "5          0.115415      0.773565    32000\n",
        "6          0.212053      0.662834    64000\n",
        "7          0.372906      0.504972   128000\n",
        "8          0.597422      0.309198   256000\n",
        "9          0.829952      0.122229   512000\n",
        "10         0.965684      0.023203  1024000\n",
        "11         0.997711      0.001036  2048000\n",
        "12         1.000000      0.000104  4096000\n",
        "13         1.000000      0.000104  8192000\n",
        "    alarm_fractions  alarm_lengths  error_ratios\n",
        "0          0.000643           1000      0.995857\n",
        "1          0.001285           2000      0.994199\n",
        "2          0.002566           4000      0.989538\n",
        "3          0.005110           8000      0.979283\n",
        "4          0.010126          16000      0.963435\n",
        "5          0.019918          32000      0.932981\n",
        "6          0.038687          64000      0.888958\n",
        "7          0.074073         128000      0.825357\n",
        "8          0.138369         256000      0.738865\n",
        "9          0.249336         512000      0.613528\n",
        "10         0.423087        1024000      0.447586\n",
        "11         0.647197        2048000      0.254713\n",
        "12         0.856772        4096000      0.093226\n",
        "13         0.972142        8192000      0.017091\n"
       ]
      }
     ],
     "prompt_number": 187
    },
    {
     "cell_type": "code",
     "collapsed": false,
     "input": [
      "\"\"\"\n",
      "TODO:\n",
      "For AUC, do we need regular x-axis step sizes?\n",
      "Figure out how to calculate AUC. lab7 has an example in BIDMach. roc function?\n",
      "explore coarse tuning for u. See if that improves curve. Currently the curve looks a lot worse than papers? Read papers\n",
      "Figure out how ETAS fits into this. Can it be plotted on the same axes?\n",
      "look into existing training algorithms in sk-learn/bidmach/spark (stochastic gradient descent?)\n",
      "Explore increasing size of data (right now set to just look at 2013 data)\n",
      "\"\"\""
     ],
     "language": "python",
     "metadata": {},
     "outputs": [
      {
       "metadata": {},
       "output_type": "pyout",
       "prompt_number": 188,
       "text": [
        "'\\nTODO:\\nFor AUC, do we need regular x-axis step sizes?\\nFigure out how to calculate AUC. lab7 has an example in BIDMach. roc function?\\nexplore coarse tuning for u. See if that improves curve. Currently the curve looks a lot worse than papers? Read papers\\nFigure out how ETAS fits into this. Can it be plotted on the same axes?\\nlook into existing training algorithms in sk-learn/bidmach/spark (stochastic gradient descent?)\\nExplore increasing size of data (right now set to just look at 2013 data)\\n'"
       ]
      }
     ],
     "prompt_number": 188
    },
    {
     "cell_type": "code",
     "collapsed": false,
     "input": [
      "\"\"\"\n",
      "Training MDA means tuning u using training data to minimize training AUC, where AUC is computed by varying tau?\n",
      "Evaluating MDA means computing AUC for validation/test data?\n",
      "\"\"\""
     ],
     "language": "python",
     "metadata": {},
     "outputs": [
      {
       "metadata": {},
       "output_type": "pyout",
       "prompt_number": 189,
       "text": [
        "'\\nTraining MDA means tuning u using training data to minimize training AUC, where AUC is computed by varying tau?\\nEvaluating MDA means computing AUC for validation/test data?\\n'"
       ]
      }
     ],
     "prompt_number": 189
    },
    {
     "cell_type": "code",
     "collapsed": false,
     "input": [],
     "language": "python",
     "metadata": {},
     "outputs": []
    }
   ],
   "metadata": {}
  }
 ]
}