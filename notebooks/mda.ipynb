{
 "metadata": {
  "name": ""
 },
 "nbformat": 3,
 "nbformat_minor": 0,
 "worksheets": [
  {
   "cells": [
    {
     "cell_type": "markdown",
     "metadata": {},
     "source": [
      "**Imports the necessary packages**"
     ]
    },
    {
     "cell_type": "code",
     "collapsed": false,
     "input": [
      "import datetime\n",
      "import time\n",
      "import urllib\n",
      "import numpy as np\n",
      "from pandas import read_csv\n",
      "from dateutil import parser"
     ],
     "language": "python",
     "metadata": {},
     "outputs": [],
     "prompt_number": 72
    },
    {
     "cell_type": "markdown",
     "metadata": {},
     "source": [
      "**Gets some sample or fake data, perhaps from hw2's Alaska?**"
     ]
    },
    {
     "cell_type": "code",
     "collapsed": false,
     "input": [
      "url = 'http://earthquake.usgs.gov/earthquakes/catalogs/eqs7day-M1.txt'\n",
      "data = read_csv(urllib.urlopen(url))\n",
      "clean_data = data.dropna(axis=0, how='any')\n",
      "test_data = clean_data[0:10]\n",
      "test_data"
     ],
     "language": "python",
     "metadata": {},
     "outputs": [
      {
       "html": [
        "<div style=\"max-height:1000px;max-width:1500px;overflow:auto;\">\n",
        "<table border=\"1\" class=\"dataframe\">\n",
        "  <thead>\n",
        "    <tr style=\"text-align: right;\">\n",
        "      <th></th>\n",
        "      <th>Src</th>\n",
        "      <th>Eqid</th>\n",
        "      <th>Version</th>\n",
        "      <th>Datetime</th>\n",
        "      <th>Lat</th>\n",
        "      <th>Lon</th>\n",
        "      <th>Magnitude</th>\n",
        "      <th>Depth</th>\n",
        "      <th>NST</th>\n",
        "      <th>Region</th>\n",
        "    </tr>\n",
        "  </thead>\n",
        "  <tbody>\n",
        "    <tr>\n",
        "      <th>1 </th>\n",
        "      <td> pr</td>\n",
        "      <td> 13309000</td>\n",
        "      <td> 0</td>\n",
        "      <td> Tuesday, November  5, 2013 04:42:21 UTC</td>\n",
        "      <td> 19.0084</td>\n",
        "      <td> -64.7246</td>\n",
        "      <td> 3.1</td>\n",
        "      <td> 57.0</td>\n",
        "      <td>  9</td>\n",
        "      <td>    Virgin Islands region</td>\n",
        "    </tr>\n",
        "    <tr>\n",
        "      <th>2 </th>\n",
        "      <td> nc</td>\n",
        "      <td> 72101341</td>\n",
        "      <td> 1</td>\n",
        "      <td> Tuesday, November  5, 2013 04:11:05 UTC</td>\n",
        "      <td> 38.8128</td>\n",
        "      <td>-122.8278</td>\n",
        "      <td> 1.7</td>\n",
        "      <td>  2.5</td>\n",
        "      <td> 32</td>\n",
        "      <td>      Northern California</td>\n",
        "    </tr>\n",
        "    <tr>\n",
        "      <th>3 </th>\n",
        "      <td> ci</td>\n",
        "      <td> 11387682</td>\n",
        "      <td> 2</td>\n",
        "      <td> Tuesday, November  5, 2013 04:07:50 UTC</td>\n",
        "      <td> 33.3497</td>\n",
        "      <td>-116.4082</td>\n",
        "      <td> 1.4</td>\n",
        "      <td>  9.1</td>\n",
        "      <td> 39</td>\n",
        "      <td>      Southern California</td>\n",
        "    </tr>\n",
        "    <tr>\n",
        "      <th>4 </th>\n",
        "      <td> ak</td>\n",
        "      <td> 10837851</td>\n",
        "      <td> 1</td>\n",
        "      <td> Tuesday, November  5, 2013 04:06:34 UTC</td>\n",
        "      <td> 61.6085</td>\n",
        "      <td>-149.1349</td>\n",
        "      <td> 1.8</td>\n",
        "      <td> 32.1</td>\n",
        "      <td> 21</td>\n",
        "      <td>          Southern Alaska</td>\n",
        "    </tr>\n",
        "    <tr>\n",
        "      <th>5 </th>\n",
        "      <td> nc</td>\n",
        "      <td> 72101326</td>\n",
        "      <td> 0</td>\n",
        "      <td> Tuesday, November  5, 2013 03:55:50 UTC</td>\n",
        "      <td> 38.8198</td>\n",
        "      <td>-122.8232</td>\n",
        "      <td> 1.0</td>\n",
        "      <td>  3.2</td>\n",
        "      <td> 18</td>\n",
        "      <td>      Northern California</td>\n",
        "    </tr>\n",
        "    <tr>\n",
        "      <th>6 </th>\n",
        "      <td> ak</td>\n",
        "      <td> 10837843</td>\n",
        "      <td> 1</td>\n",
        "      <td> Tuesday, November  5, 2013 03:17:14 UTC</td>\n",
        "      <td> 60.5865</td>\n",
        "      <td>-151.4149</td>\n",
        "      <td> 1.8</td>\n",
        "      <td> 20.5</td>\n",
        "      <td> 20</td>\n",
        "      <td>  Kenai Peninsula, Alaska</td>\n",
        "    </tr>\n",
        "    <tr>\n",
        "      <th>7 </th>\n",
        "      <td> nc</td>\n",
        "      <td> 72101301</td>\n",
        "      <td> 1</td>\n",
        "      <td> Tuesday, November  5, 2013 03:16:06 UTC</td>\n",
        "      <td> 38.8392</td>\n",
        "      <td>-122.8390</td>\n",
        "      <td> 1.4</td>\n",
        "      <td>  2.1</td>\n",
        "      <td> 27</td>\n",
        "      <td>      Northern California</td>\n",
        "    </tr>\n",
        "    <tr>\n",
        "      <th>8 </th>\n",
        "      <td> ci</td>\n",
        "      <td> 11387674</td>\n",
        "      <td> 2</td>\n",
        "      <td> Tuesday, November  5, 2013 03:13:42 UTC</td>\n",
        "      <td> 34.2497</td>\n",
        "      <td>-117.4778</td>\n",
        "      <td> 1.8</td>\n",
        "      <td> 12.6</td>\n",
        "      <td> 57</td>\n",
        "      <td>      Southern California</td>\n",
        "    </tr>\n",
        "    <tr>\n",
        "      <th>9 </th>\n",
        "      <td> hv</td>\n",
        "      <td> 60587026</td>\n",
        "      <td> 1</td>\n",
        "      <td> Tuesday, November  5, 2013 03:12:12 UTC</td>\n",
        "      <td> 19.0230</td>\n",
        "      <td>-155.4102</td>\n",
        "      <td> 2.1</td>\n",
        "      <td> 38.9</td>\n",
        "      <td> 16</td>\n",
        "      <td> Island of Hawaii, Hawaii</td>\n",
        "    </tr>\n",
        "    <tr>\n",
        "      <th>10</th>\n",
        "      <td> hv</td>\n",
        "      <td> 60587021</td>\n",
        "      <td> 1</td>\n",
        "      <td> Tuesday, November  5, 2013 03:09:09 UTC</td>\n",
        "      <td> 19.1558</td>\n",
        "      <td>-155.3465</td>\n",
        "      <td> 2.2</td>\n",
        "      <td> 42.6</td>\n",
        "      <td> 24</td>\n",
        "      <td> Island of Hawaii, Hawaii</td>\n",
        "    </tr>\n",
        "  </tbody>\n",
        "</table>\n",
        "</div>"
       ],
       "metadata": {},
       "output_type": "pyout",
       "prompt_number": 73,
       "text": [
        "   Src      Eqid Version                                 Datetime      Lat  \\\n",
        "1   pr  13309000       0  Tuesday, November  5, 2013 04:42:21 UTC  19.0084   \n",
        "2   nc  72101341       1  Tuesday, November  5, 2013 04:11:05 UTC  38.8128   \n",
        "3   ci  11387682       2  Tuesday, November  5, 2013 04:07:50 UTC  33.3497   \n",
        "4   ak  10837851       1  Tuesday, November  5, 2013 04:06:34 UTC  61.6085   \n",
        "5   nc  72101326       0  Tuesday, November  5, 2013 03:55:50 UTC  38.8198   \n",
        "6   ak  10837843       1  Tuesday, November  5, 2013 03:17:14 UTC  60.5865   \n",
        "7   nc  72101301       1  Tuesday, November  5, 2013 03:16:06 UTC  38.8392   \n",
        "8   ci  11387674       2  Tuesday, November  5, 2013 03:13:42 UTC  34.2497   \n",
        "9   hv  60587026       1  Tuesday, November  5, 2013 03:12:12 UTC  19.0230   \n",
        "10  hv  60587021       1  Tuesday, November  5, 2013 03:09:09 UTC  19.1558   \n",
        "\n",
        "         Lon  Magnitude  Depth  NST                    Region  \n",
        "1   -64.7246        3.1   57.0    9     Virgin Islands region  \n",
        "2  -122.8278        1.7    2.5   32       Northern California  \n",
        "3  -116.4082        1.4    9.1   39       Southern California  \n",
        "4  -149.1349        1.8   32.1   21           Southern Alaska  \n",
        "5  -122.8232        1.0    3.2   18       Northern California  \n",
        "6  -151.4149        1.8   20.5   20   Kenai Peninsula, Alaska  \n",
        "7  -122.8390        1.4    2.1   27       Northern California  \n",
        "8  -117.4778        1.8   12.6   57       Southern California  \n",
        "9  -155.4102        2.1   38.9   16  Island of Hawaii, Hawaii  \n",
        "10 -155.3465        2.2   42.6   24  Island of Hawaii, Hawaii  "
       ]
      }
     ],
     "prompt_number": 73
    },
    {
     "cell_type": "markdown",
     "metadata": {},
     "source": [
      "**Get the test magnitude and test datetime from the USGS code**"
     ]
    },
    {
     "cell_type": "code",
     "collapsed": false,
     "input": [
      "test_mag = test_data['Magnitude']\n",
      "test_mag = test_mag.tolist()\n",
      "test_mag"
     ],
     "language": "python",
     "metadata": {},
     "outputs": [
      {
       "metadata": {},
       "output_type": "pyout",
       "prompt_number": 74,
       "text": [
        "[3.1, 1.7, 1.4, 1.8, 1.0, 1.8, 1.4, 1.8, 2.1, 2.2]"
       ]
      }
     ],
     "prompt_number": 74
    },
    {
     "cell_type": "code",
     "collapsed": false,
     "input": [
      "test_dt = test_data['Datetime']\n",
      "test_dt = test_dt.tolist()\n",
      "test_dt = [parser.parse(dt) for dt in test_dt]\n",
      "test_dt"
     ],
     "language": "python",
     "metadata": {},
     "outputs": [
      {
       "metadata": {},
       "output_type": "pyout",
       "prompt_number": 75,
       "text": [
        "[datetime.datetime(2013, 11, 5, 4, 42, 21, tzinfo=tzutc()),\n",
        " datetime.datetime(2013, 11, 5, 4, 11, 5, tzinfo=tzutc()),\n",
        " datetime.datetime(2013, 11, 5, 4, 7, 50, tzinfo=tzutc()),\n",
        " datetime.datetime(2013, 11, 5, 4, 6, 34, tzinfo=tzutc()),\n",
        " datetime.datetime(2013, 11, 5, 3, 55, 50, tzinfo=tzutc()),\n",
        " datetime.datetime(2013, 11, 5, 3, 17, 14, tzinfo=tzutc()),\n",
        " datetime.datetime(2013, 11, 5, 3, 16, 6, tzinfo=tzutc()),\n",
        " datetime.datetime(2013, 11, 5, 3, 13, 42, tzinfo=tzutc()),\n",
        " datetime.datetime(2013, 11, 5, 3, 12, 12, tzinfo=tzutc()),\n",
        " datetime.datetime(2013, 11, 5, 3, 9, 9, tzinfo=tzutc())]"
       ]
      }
     ],
     "prompt_number": 75
    },
    {
     "cell_type": "markdown",
     "metadata": {},
     "source": [
      "**Extracts the alarm length for each possible quake**"
     ]
    },
    {
     "cell_type": "code",
     "collapsed": false,
     "input": [
      "def mda(mag, dt):\n",
      "    \"\"\"\n",
      "    Uses basic MDA model (tau*u^mag) to predict earthquakes.\n",
      "    Returns tuple of (start, end) representing date range when alarm should be on.\n",
      "    MAG: list of earthquake magnitudes\n",
      "    DT: list of earthquake datetimes in python datetime format\n",
      "    (MAG and DT have the same length and come from earthquakes data frame)\n",
      "    \"\"\"\n",
      "    assert len(mag) == len(dt), \"Dude are you mad?\"\n",
      "    \n",
      "    tau = 0.7 # we will figure out what tau is later\n",
      "    u = 4 # we will add fancy tuning functionality later\n",
      "    alarms = []\n",
      "    \n",
      "    for i in range(0, len(mag)):\n",
      "        alarm_length = tau * (u ** mag[i])\n",
      "        val = datetime.timedelta(seconds=alarm_length)\n",
      "        rng = (dt[i], dt[i]+val)\n",
      "        alarms.append(rng)\n",
      "    return alarms"
     ],
     "language": "python",
     "metadata": {},
     "outputs": [],
     "prompt_number": 76
    },
    {
     "cell_type": "markdown",
     "metadata": {},
     "source": [
      "**A sample run over the test magnitude and test datetime**"
     ]
    },
    {
     "cell_type": "code",
     "collapsed": false,
     "input": [
      "mda(test_mag, test_dt)"
     ],
     "language": "python",
     "metadata": {},
     "outputs": [
      {
       "metadata": {},
       "output_type": "pyout",
       "prompt_number": 77,
       "text": [
        "[(datetime.datetime(2013, 11, 5, 4, 42, 21, tzinfo=tzutc()),\n",
        "  datetime.datetime(2013, 11, 5, 4, 43, 12, 461686, tzinfo=tzutc())),\n",
        " (datetime.datetime(2013, 11, 5, 4, 11, 5, tzinfo=tzutc()),\n",
        "  datetime.datetime(2013, 11, 5, 4, 11, 12, 389244, tzinfo=tzutc())),\n",
        " (datetime.datetime(2013, 11, 5, 4, 7, 50, tzinfo=tzutc()),\n",
        "  datetime.datetime(2013, 11, 5, 4, 7, 54, 875083, tzinfo=tzutc())),\n",
        " (datetime.datetime(2013, 11, 5, 4, 6, 34, tzinfo=tzutc()),\n",
        "  datetime.datetime(2013, 11, 5, 4, 6, 42, 488013, tzinfo=tzutc())),\n",
        " (datetime.datetime(2013, 11, 5, 3, 55, 50, tzinfo=tzutc()),\n",
        "  datetime.datetime(2013, 11, 5, 3, 55, 52, 800000, tzinfo=tzutc())),\n",
        " (datetime.datetime(2013, 11, 5, 3, 17, 14, tzinfo=tzutc()),\n",
        "  datetime.datetime(2013, 11, 5, 3, 17, 22, 488013, tzinfo=tzutc())),\n",
        " (datetime.datetime(2013, 11, 5, 3, 16, 6, tzinfo=tzutc()),\n",
        "  datetime.datetime(2013, 11, 5, 3, 16, 10, 875083, tzinfo=tzutc())),\n",
        " (datetime.datetime(2013, 11, 5, 3, 13, 42, tzinfo=tzutc()),\n",
        "  datetime.datetime(2013, 11, 5, 3, 13, 50, 488013, tzinfo=tzutc())),\n",
        " (datetime.datetime(2013, 11, 5, 3, 12, 12, tzinfo=tzutc()),\n",
        "  datetime.datetime(2013, 11, 5, 3, 12, 24, 865422, tzinfo=tzutc())),\n",
        " (datetime.datetime(2013, 11, 5, 3, 9, 9, tzinfo=tzutc()),\n",
        "  datetime.datetime(2013, 11, 5, 3, 9, 23, 778489, tzinfo=tzutc()))]"
       ]
      }
     ],
     "prompt_number": 77
    }
   ],
   "metadata": {}
  }
 ]
}