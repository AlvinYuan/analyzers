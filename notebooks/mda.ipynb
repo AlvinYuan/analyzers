{
 "metadata": {
  "name": ""
 },
 "nbformat": 3,
 "nbformat_minor": 0,
 "worksheets": [
  {
   "cells": [
    {
     "cell_type": "markdown",
     "metadata": {},
     "source": [
      "**Imports the necessary packages**"
     ]
    },
    {
     "cell_type": "code",
     "collapsed": false,
     "input": [
      "import datetime"
     ],
     "language": "python",
     "metadata": {},
     "outputs": [],
     "prompt_number": 31
    },
    {
     "cell_type": "markdown",
     "metadata": {},
     "source": [
      "**Gets some sample or fake data, perhaps from hw2's Alaska?**"
     ]
    },
    {
     "cell_type": "code",
     "collapsed": false,
     "input": [
      "sample_mag = [5.0, 2.0, 1.0]\n",
      "sample_dt = [datetime.datetime(2012, 5, 1, 6, 30, 22), datetime.datetime(2012, 5, 2), datetime.datetime(2012, 5, 3)]\n",
      "sample_dt"
     ],
     "language": "python",
     "metadata": {},
     "outputs": [
      {
       "metadata": {},
       "output_type": "pyout",
       "prompt_number": 32,
       "text": [
        "[datetime.datetime(2012, 5, 1, 6, 30, 22),\n",
        " datetime.datetime(2012, 5, 2, 0, 0),\n",
        " datetime.datetime(2012, 5, 3, 0, 0)]"
       ]
      }
     ],
     "prompt_number": 32
    },
    {
     "cell_type": "markdown",
     "metadata": {},
     "source": [
      "**Extracts the alarm length for each possible quake**"
     ]
    },
    {
     "cell_type": "code",
     "collapsed": false,
     "input": [
      "def mda(mag, dt):\n",
      "    \"\"\"\n",
      "    Uses basic MDA model (tau*u^mag) to predict earthquakes.\n",
      "    Returns tuple of (start, end) representing date range when alarm should be on.\n",
      "    MAG: list of earthquake magnitudes\n",
      "    DT: list of earthquake datetimes in python datetime format\n",
      "    (MAG and DT have the same length and come from earthquakes data frame)\n",
      "    \"\"\"\n",
      "    assert len(mag) == len(dt)\n",
      "    \n",
      "    tau = 0.7 # we will figure out what tau is later\n",
      "    u = 4 # we will add fancy tuning functionality later\n",
      "    \n",
      "    alarms = []\n",
      "    \n",
      "#    alarm_length = [tau * (u ** m) for m in mag]\n",
      "    \n",
      "    for i in range(0, len(mag)):\n",
      "        alarm_length = tau * (u ** mag[i])\n",
      "        val = datetime.timedelta(seconds=alarm_length)\n",
      "        rng = (dt[i], dt[i]+val)\n",
      "        alarms.append(rng)\n",
      "    return alarms"
     ],
     "language": "python",
     "metadata": {},
     "outputs": [],
     "prompt_number": 45
    },
    {
     "cell_type": "code",
     "collapsed": false,
     "input": [
      "mda(sample_mag, sample_dt)"
     ],
     "language": "python",
     "metadata": {},
     "outputs": [
      {
       "output_type": "stream",
       "stream": "stdout",
       "text": [
        "0\n",
        "5.0\n",
        "716.8\n",
        "1\n",
        "2.0\n",
        "11.2\n",
        "2\n",
        "1.0\n",
        "2.8\n"
       ]
      },
      {
       "metadata": {},
       "output_type": "pyout",
       "prompt_number": 46,
       "text": [
        "[(datetime.datetime(2012, 5, 1, 6, 30, 22),\n",
        "  datetime.datetime(2012, 5, 1, 6, 42, 18, 800000)),\n",
        " (datetime.datetime(2012, 5, 2, 0, 0),\n",
        "  datetime.datetime(2012, 5, 2, 0, 0, 11, 200000)),\n",
        " (datetime.datetime(2012, 5, 3, 0, 0),\n",
        "  datetime.datetime(2012, 5, 3, 0, 0, 2, 800000))]"
       ]
      }
     ],
     "prompt_number": 46
    },
    {
     "cell_type": "code",
     "collapsed": false,
     "input": [],
     "language": "python",
     "metadata": {},
     "outputs": []
    }
   ],
   "metadata": {}
  }
 ]
}